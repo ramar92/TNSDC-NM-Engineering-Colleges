{
  "nbformat": 4,
  "nbformat_minor": 0,
  "metadata": {
    "colab": {
      "provenance": []
    },
    "kernelspec": {
      "name": "python3",
      "display_name": "Python 3"
    },
    "language_info": {
      "name": "python"
    }
  },
  "cells": [
    {
      "cell_type": "markdown",
      "source": [
        "Types of RNN:\n",
        "\n",
        "1.  One - One\n",
        "2.  One - Many\n",
        "3.  Many - One\n",
        "4.  Many - Many"
      ],
      "metadata": {
        "id": "Xs4VeQLMITfB"
      }
    },
    {
      "cell_type": "markdown",
      "source": [
        "Varient:\n",
        "\n",
        "1. BiNN\n",
        "2. LSTM  \n",
        "\n",
        "RNN - Application:\n",
        "\n",
        "1. Lanuage modeling - Genterate the text\n",
        "2. Speech Recog.  \n",
        "3. Machine Trans,\n",
        "4. Image recog.\n",
        "5. Time series"
      ],
      "metadata": {
        "id": "o-PkozGIJdri"
      }
    },
    {
      "cell_type": "code",
      "execution_count": 20,
      "metadata": {
        "id": "pBKtQYgo7jhO"
      },
      "outputs": [],
      "source": [
        "\n",
        "import numpy as np\n",
        "import tensorflow as tf\n",
        "from tensorflow.keras.models import Sequential\n",
        "from tensorflow.keras.layers import SimpleRNN, Dense"
      ]
    },
    {
      "cell_type": "code",
      "source": [
        "text = \"Edunet Foundation is an Indian non profit with pan India presence. It enjoys Special Consultative Status with the Economic and Social Council (ECOSOC) of the United Nations since 2020.\"\n",
        "\n",
        "chars = sorted(list(set(text)))\n",
        "char_to_index = {char: i for i, char in enumerate(chars)}\n",
        "index_to_char = {i: char for i, char in enumerate(chars)}"
      ],
      "metadata": {
        "id": "wDHkShdHLTB0"
      },
      "execution_count": 21,
      "outputs": []
    },
    {
      "cell_type": "code",
      "source": [
        "seq_length = 3\n",
        "sequences = []\n",
        "labels = []\n",
        "\n",
        "for i in range(len(text) - seq_length):\n",
        "    seq = text[i:i+seq_length]\n",
        "    label = text[i+seq_length]\n",
        "    sequences.append([char_to_index[char] for char in seq])\n",
        "    labels.append(char_to_index[label])"
      ],
      "metadata": {
        "id": "UFwTNq6wM0hG"
      },
      "execution_count": 22,
      "outputs": []
    },
    {
      "cell_type": "code",
      "source": [
        "X = np.array(sequences)\n",
        "y = np.array(labels)\n",
        "\n",
        "X_one_hot = tf.one_hot(X, len(chars))\n",
        "y_one_hot = tf.one_hot(y, len(chars))"
      ],
      "metadata": {
        "id": "Y74NobaVOfDH"
      },
      "execution_count": 23,
      "outputs": []
    },
    {
      "cell_type": "code",
      "source": [
        "# RNN Model\n",
        "\n",
        "model = Sequential()\n",
        "model.add(SimpleRNN(50, input_shape=(seq_length, len(chars)), activation='relu'))\n",
        "model.add(Dense(len(chars), activation='softmax'))"
      ],
      "metadata": {
        "id": "9mOAMdAwPN5H"
      },
      "execution_count": 24,
      "outputs": []
    },
    {
      "cell_type": "code",
      "source": [
        "# model compile\n",
        "\n",
        "model.compile(optimizer='adam', loss='categorical_crossentropy', metrics=['accuracy'])"
      ],
      "metadata": {
        "id": "5bEND3lOQiL7"
      },
      "execution_count": 25,
      "outputs": []
    },
    {
      "cell_type": "code",
      "source": [
        "# Train the Model\n",
        "model.fit(X_one_hot, y_one_hot, epochs=100)"
      ],
      "metadata": {
        "colab": {
          "base_uri": "https://localhost:8080/"
        },
        "id": "ijOkX2xbQ6o-",
        "outputId": "f6145fe7-4ccf-400f-a2f5-d8f060df6c5c"
      },
      "execution_count": 26,
      "outputs": [
        {
          "output_type": "stream",
          "name": "stdout",
          "text": [
            "Epoch 1/100\n",
            "6/6 [==============================] - 1s 4ms/step - loss: 3.5126 - accuracy: 0.0166\n",
            "Epoch 2/100\n",
            "6/6 [==============================] - 0s 4ms/step - loss: 3.4713 - accuracy: 0.0387\n",
            "Epoch 3/100\n",
            "6/6 [==============================] - 0s 4ms/step - loss: 3.4352 - accuracy: 0.0608\n",
            "Epoch 4/100\n",
            "6/6 [==============================] - 0s 5ms/step - loss: 3.3985 - accuracy: 0.1050\n",
            "Epoch 5/100\n",
            "6/6 [==============================] - 0s 4ms/step - loss: 3.3569 - accuracy: 0.1271\n",
            "Epoch 6/100\n",
            "6/6 [==============================] - 0s 4ms/step - loss: 3.3143 - accuracy: 0.1492\n",
            "Epoch 7/100\n",
            "6/6 [==============================] - 0s 4ms/step - loss: 3.2643 - accuracy: 0.1657\n",
            "Epoch 8/100\n",
            "6/6 [==============================] - 0s 4ms/step - loss: 3.1989 - accuracy: 0.1768\n",
            "Epoch 9/100\n",
            "6/6 [==============================] - 0s 4ms/step - loss: 3.1302 - accuracy: 0.1878\n",
            "Epoch 10/100\n",
            "6/6 [==============================] - 0s 4ms/step - loss: 3.0605 - accuracy: 0.1823\n",
            "Epoch 11/100\n",
            "6/6 [==============================] - 0s 5ms/step - loss: 2.9810 - accuracy: 0.1878\n",
            "Epoch 12/100\n",
            "6/6 [==============================] - 0s 5ms/step - loss: 2.9182 - accuracy: 0.1878\n",
            "Epoch 13/100\n",
            "6/6 [==============================] - 0s 5ms/step - loss: 2.8652 - accuracy: 0.1768\n",
            "Epoch 14/100\n",
            "6/6 [==============================] - 0s 4ms/step - loss: 2.8215 - accuracy: 0.1989\n",
            "Epoch 15/100\n",
            "6/6 [==============================] - 0s 4ms/step - loss: 2.7799 - accuracy: 0.2210\n",
            "Epoch 16/100\n",
            "6/6 [==============================] - 0s 4ms/step - loss: 2.7384 - accuracy: 0.2265\n",
            "Epoch 17/100\n",
            "6/6 [==============================] - 0s 5ms/step - loss: 2.6992 - accuracy: 0.2376\n",
            "Epoch 18/100\n",
            "6/6 [==============================] - 0s 4ms/step - loss: 2.6572 - accuracy: 0.2431\n",
            "Epoch 19/100\n",
            "6/6 [==============================] - 0s 7ms/step - loss: 2.6193 - accuracy: 0.2541\n",
            "Epoch 20/100\n",
            "6/6 [==============================] - 0s 8ms/step - loss: 2.5786 - accuracy: 0.2652\n",
            "Epoch 21/100\n",
            "6/6 [==============================] - 0s 8ms/step - loss: 2.5379 - accuracy: 0.2818\n",
            "Epoch 22/100\n",
            "6/6 [==============================] - 0s 7ms/step - loss: 2.4985 - accuracy: 0.2818\n",
            "Epoch 23/100\n",
            "6/6 [==============================] - 0s 8ms/step - loss: 2.4567 - accuracy: 0.2928\n",
            "Epoch 24/100\n",
            "6/6 [==============================] - 0s 8ms/step - loss: 2.4158 - accuracy: 0.2928\n",
            "Epoch 25/100\n",
            "6/6 [==============================] - 0s 9ms/step - loss: 2.3751 - accuracy: 0.2983\n",
            "Epoch 26/100\n",
            "6/6 [==============================] - 0s 9ms/step - loss: 2.3323 - accuracy: 0.3039\n",
            "Epoch 27/100\n",
            "6/6 [==============================] - 0s 8ms/step - loss: 2.2911 - accuracy: 0.3149\n",
            "Epoch 28/100\n",
            "6/6 [==============================] - 0s 8ms/step - loss: 2.2475 - accuracy: 0.3260\n",
            "Epoch 29/100\n",
            "6/6 [==============================] - 0s 7ms/step - loss: 2.2044 - accuracy: 0.3481\n",
            "Epoch 30/100\n",
            "6/6 [==============================] - 0s 8ms/step - loss: 2.1599 - accuracy: 0.3481\n",
            "Epoch 31/100\n",
            "6/6 [==============================] - 0s 8ms/step - loss: 2.1166 - accuracy: 0.3591\n",
            "Epoch 32/100\n",
            "6/6 [==============================] - 0s 7ms/step - loss: 2.0765 - accuracy: 0.3702\n",
            "Epoch 33/100\n",
            "6/6 [==============================] - 0s 7ms/step - loss: 2.0301 - accuracy: 0.3867\n",
            "Epoch 34/100\n",
            "6/6 [==============================] - 0s 7ms/step - loss: 1.9866 - accuracy: 0.3923\n",
            "Epoch 35/100\n",
            "6/6 [==============================] - 0s 6ms/step - loss: 1.9442 - accuracy: 0.4033\n",
            "Epoch 36/100\n",
            "6/6 [==============================] - 0s 6ms/step - loss: 1.9023 - accuracy: 0.4530\n",
            "Epoch 37/100\n",
            "6/6 [==============================] - 0s 7ms/step - loss: 1.8592 - accuracy: 0.4751\n",
            "Epoch 38/100\n",
            "6/6 [==============================] - 0s 7ms/step - loss: 1.8156 - accuracy: 0.4862\n",
            "Epoch 39/100\n",
            "6/6 [==============================] - 0s 7ms/step - loss: 1.7721 - accuracy: 0.5193\n",
            "Epoch 40/100\n",
            "6/6 [==============================] - 0s 8ms/step - loss: 1.7307 - accuracy: 0.5138\n",
            "Epoch 41/100\n",
            "6/6 [==============================] - 0s 7ms/step - loss: 1.6872 - accuracy: 0.5525\n",
            "Epoch 42/100\n",
            "6/6 [==============================] - 0s 8ms/step - loss: 1.6456 - accuracy: 0.5525\n",
            "Epoch 43/100\n",
            "6/6 [==============================] - 0s 7ms/step - loss: 1.6028 - accuracy: 0.5801\n",
            "Epoch 44/100\n",
            "6/6 [==============================] - 0s 9ms/step - loss: 1.5656 - accuracy: 0.5967\n",
            "Epoch 45/100\n",
            "6/6 [==============================] - 0s 8ms/step - loss: 1.5195 - accuracy: 0.6077\n",
            "Epoch 46/100\n",
            "6/6 [==============================] - 0s 9ms/step - loss: 1.4815 - accuracy: 0.6298\n",
            "Epoch 47/100\n",
            "6/6 [==============================] - 0s 6ms/step - loss: 1.4424 - accuracy: 0.6464\n",
            "Epoch 48/100\n",
            "6/6 [==============================] - 0s 6ms/step - loss: 1.4016 - accuracy: 0.6575\n",
            "Epoch 49/100\n",
            "6/6 [==============================] - 0s 7ms/step - loss: 1.3651 - accuracy: 0.6575\n",
            "Epoch 50/100\n",
            "6/6 [==============================] - 0s 6ms/step - loss: 1.3281 - accuracy: 0.6740\n",
            "Epoch 51/100\n",
            "6/6 [==============================] - 0s 8ms/step - loss: 1.2905 - accuracy: 0.6906\n",
            "Epoch 52/100\n",
            "6/6 [==============================] - 0s 7ms/step - loss: 1.2548 - accuracy: 0.6961\n",
            "Epoch 53/100\n",
            "6/6 [==============================] - 0s 6ms/step - loss: 1.2196 - accuracy: 0.6961\n",
            "Epoch 54/100\n",
            "6/6 [==============================] - 0s 7ms/step - loss: 1.1840 - accuracy: 0.7127\n",
            "Epoch 55/100\n",
            "6/6 [==============================] - 0s 7ms/step - loss: 1.1558 - accuracy: 0.7072\n",
            "Epoch 56/100\n",
            "6/6 [==============================] - 0s 8ms/step - loss: 1.1196 - accuracy: 0.7072\n",
            "Epoch 57/100\n",
            "6/6 [==============================] - 0s 8ms/step - loss: 1.0864 - accuracy: 0.7348\n",
            "Epoch 58/100\n",
            "6/6 [==============================] - 0s 9ms/step - loss: 1.0582 - accuracy: 0.7459\n",
            "Epoch 59/100\n",
            "6/6 [==============================] - 0s 10ms/step - loss: 1.0279 - accuracy: 0.7624\n",
            "Epoch 60/100\n",
            "6/6 [==============================] - 0s 9ms/step - loss: 0.9981 - accuracy: 0.7569\n",
            "Epoch 61/100\n",
            "6/6 [==============================] - 0s 8ms/step - loss: 0.9735 - accuracy: 0.7569\n",
            "Epoch 62/100\n",
            "6/6 [==============================] - 0s 11ms/step - loss: 0.9457 - accuracy: 0.7790\n",
            "Epoch 63/100\n",
            "6/6 [==============================] - 0s 7ms/step - loss: 0.9217 - accuracy: 0.7845\n",
            "Epoch 64/100\n",
            "6/6 [==============================] - 0s 7ms/step - loss: 0.8959 - accuracy: 0.7845\n",
            "Epoch 65/100\n",
            "6/6 [==============================] - 0s 6ms/step - loss: 0.8750 - accuracy: 0.7956\n",
            "Epoch 66/100\n",
            "6/6 [==============================] - 0s 7ms/step - loss: 0.8552 - accuracy: 0.7956\n",
            "Epoch 67/100\n",
            "6/6 [==============================] - 0s 8ms/step - loss: 0.8322 - accuracy: 0.8066\n",
            "Epoch 68/100\n",
            "6/6 [==============================] - 0s 8ms/step - loss: 0.8125 - accuracy: 0.8066\n",
            "Epoch 69/100\n",
            "6/6 [==============================] - 0s 8ms/step - loss: 0.7899 - accuracy: 0.8066\n",
            "Epoch 70/100\n",
            "6/6 [==============================] - 0s 10ms/step - loss: 0.7773 - accuracy: 0.8122\n",
            "Epoch 71/100\n",
            "6/6 [==============================] - 0s 9ms/step - loss: 0.7541 - accuracy: 0.8177\n",
            "Epoch 72/100\n",
            "6/6 [==============================] - 0s 9ms/step - loss: 0.7416 - accuracy: 0.8177\n",
            "Epoch 73/100\n",
            "6/6 [==============================] - 0s 9ms/step - loss: 0.7212 - accuracy: 0.8398\n",
            "Epoch 74/100\n",
            "6/6 [==============================] - 0s 9ms/step - loss: 0.7130 - accuracy: 0.8453\n",
            "Epoch 75/100\n",
            "6/6 [==============================] - 0s 9ms/step - loss: 0.6920 - accuracy: 0.8453\n",
            "Epoch 76/100\n",
            "6/6 [==============================] - 0s 10ms/step - loss: 0.6764 - accuracy: 0.8398\n",
            "Epoch 77/100\n",
            "6/6 [==============================] - 0s 12ms/step - loss: 0.6651 - accuracy: 0.8453\n",
            "Epoch 78/100\n",
            "6/6 [==============================] - 0s 8ms/step - loss: 0.6487 - accuracy: 0.8674\n",
            "Epoch 79/100\n",
            "6/6 [==============================] - 0s 7ms/step - loss: 0.6342 - accuracy: 0.8729\n",
            "Epoch 80/100\n",
            "6/6 [==============================] - 0s 9ms/step - loss: 0.6223 - accuracy: 0.8674\n",
            "Epoch 81/100\n",
            "6/6 [==============================] - 0s 9ms/step - loss: 0.6128 - accuracy: 0.8674\n",
            "Epoch 82/100\n",
            "6/6 [==============================] - 0s 7ms/step - loss: 0.5999 - accuracy: 0.8729\n",
            "Epoch 83/100\n",
            "6/6 [==============================] - 0s 9ms/step - loss: 0.5912 - accuracy: 0.8674\n",
            "Epoch 84/100\n",
            "6/6 [==============================] - 0s 11ms/step - loss: 0.5761 - accuracy: 0.8619\n",
            "Epoch 85/100\n",
            "6/6 [==============================] - 0s 9ms/step - loss: 0.5669 - accuracy: 0.8785\n",
            "Epoch 86/100\n",
            "6/6 [==============================] - 0s 9ms/step - loss: 0.5604 - accuracy: 0.8785\n",
            "Epoch 87/100\n",
            "6/6 [==============================] - 0s 9ms/step - loss: 0.5473 - accuracy: 0.8840\n",
            "Epoch 88/100\n",
            "6/6 [==============================] - 0s 8ms/step - loss: 0.5464 - accuracy: 0.8674\n",
            "Epoch 89/100\n",
            "6/6 [==============================] - 0s 7ms/step - loss: 0.5297 - accuracy: 0.8674\n",
            "Epoch 90/100\n",
            "6/6 [==============================] - 0s 8ms/step - loss: 0.5252 - accuracy: 0.8785\n",
            "Epoch 91/100\n",
            "6/6 [==============================] - 0s 11ms/step - loss: 0.5104 - accuracy: 0.8840\n",
            "Epoch 92/100\n",
            "6/6 [==============================] - 0s 8ms/step - loss: 0.5013 - accuracy: 0.8950\n",
            "Epoch 93/100\n",
            "6/6 [==============================] - 0s 7ms/step - loss: 0.4944 - accuracy: 0.8895\n",
            "Epoch 94/100\n",
            "6/6 [==============================] - 0s 7ms/step - loss: 0.4897 - accuracy: 0.8895\n",
            "Epoch 95/100\n",
            "6/6 [==============================] - 0s 8ms/step - loss: 0.4834 - accuracy: 0.8895\n",
            "Epoch 96/100\n",
            "6/6 [==============================] - 0s 10ms/step - loss: 0.4706 - accuracy: 0.8950\n",
            "Epoch 97/100\n",
            "6/6 [==============================] - 0s 9ms/step - loss: 0.4661 - accuracy: 0.8785\n",
            "Epoch 98/100\n",
            "6/6 [==============================] - 0s 8ms/step - loss: 0.4627 - accuracy: 0.8840\n",
            "Epoch 99/100\n",
            "6/6 [==============================] - 0s 9ms/step - loss: 0.4526 - accuracy: 0.9006\n",
            "Epoch 100/100\n",
            "6/6 [==============================] - 0s 6ms/step - loss: 0.4478 - accuracy: 0.9006\n"
          ]
        },
        {
          "output_type": "execute_result",
          "data": {
            "text/plain": [
              "<keras.src.callbacks.History at 0x7a7399bf1360>"
            ]
          },
          "metadata": {},
          "execution_count": 26
        }
      ]
    },
    {
      "cell_type": "code",
      "source": [
        "start_seq = input(\"Enter starte seq:\")\n",
        "\n",
        "generated_text = start_seq\n",
        "\n",
        "for i in range(50):\n",
        "    x = np.array([[char_to_index[char] for char in generated_text[-seq_length:]]])\n",
        "    x_one_hot = tf.one_hot(x, len(chars))\n",
        "    prediction = model.predict(x_one_hot)\n",
        "    next_index = np.argmax(prediction)\n",
        "    next_char = index_to_char[next_index]\n",
        "    generated_text += next_char\n",
        "\n",
        "print(\"Generated Text:\")\n",
        "print(generated_text)"
      ],
      "metadata": {
        "colab": {
          "base_uri": "https://localhost:8080/"
        },
        "id": "mq_WhkTsRKGD",
        "outputId": "9b4618c3-3bc2-4385-8f4a-bd801c63f792"
      },
      "execution_count": 27,
      "outputs": [
        {
          "output_type": "stream",
          "name": "stdout",
          "text": [
            "Enter starte seq:Edunet Foundation is\n",
            "1/1 [==============================] - 0s 150ms/step\n",
            "1/1 [==============================] - 0s 24ms/step\n",
            "1/1 [==============================] - 0s 25ms/step\n",
            "1/1 [==============================] - 0s 24ms/step\n",
            "1/1 [==============================] - 0s 23ms/step\n",
            "1/1 [==============================] - 0s 25ms/step\n",
            "1/1 [==============================] - 0s 23ms/step\n",
            "1/1 [==============================] - 0s 29ms/step\n",
            "1/1 [==============================] - 0s 24ms/step\n",
            "1/1 [==============================] - 0s 22ms/step\n",
            "1/1 [==============================] - 0s 23ms/step\n",
            "1/1 [==============================] - 0s 27ms/step\n",
            "1/1 [==============================] - 0s 24ms/step\n",
            "1/1 [==============================] - 0s 23ms/step\n",
            "1/1 [==============================] - 0s 22ms/step\n",
            "1/1 [==============================] - 0s 22ms/step\n",
            "1/1 [==============================] - 0s 20ms/step\n",
            "1/1 [==============================] - 0s 22ms/step\n",
            "1/1 [==============================] - 0s 21ms/step\n",
            "1/1 [==============================] - 0s 24ms/step\n",
            "1/1 [==============================] - 0s 21ms/step\n",
            "1/1 [==============================] - 0s 25ms/step\n",
            "1/1 [==============================] - 0s 22ms/step\n",
            "1/1 [==============================] - 0s 22ms/step\n",
            "1/1 [==============================] - 0s 21ms/step\n",
            "1/1 [==============================] - 0s 24ms/step\n",
            "1/1 [==============================] - 0s 24ms/step\n",
            "1/1 [==============================] - 0s 23ms/step\n",
            "1/1 [==============================] - 0s 25ms/step\n",
            "1/1 [==============================] - 0s 27ms/step\n",
            "1/1 [==============================] - 0s 26ms/step\n",
            "1/1 [==============================] - 0s 31ms/step\n",
            "1/1 [==============================] - 0s 23ms/step\n",
            "1/1 [==============================] - 0s 24ms/step\n",
            "1/1 [==============================] - 0s 26ms/step\n",
            "1/1 [==============================] - 0s 25ms/step\n",
            "1/1 [==============================] - 0s 23ms/step\n",
            "1/1 [==============================] - 0s 23ms/step\n",
            "1/1 [==============================] - 0s 24ms/step\n",
            "1/1 [==============================] - 0s 25ms/step\n",
            "1/1 [==============================] - 0s 26ms/step\n",
            "1/1 [==============================] - 0s 33ms/step\n",
            "1/1 [==============================] - 0s 26ms/step\n",
            "1/1 [==============================] - 0s 23ms/step\n",
            "1/1 [==============================] - 0s 24ms/step\n",
            "1/1 [==============================] - 0s 23ms/step\n",
            "1/1 [==============================] - 0s 25ms/step\n",
            "1/1 [==============================] - 0s 24ms/step\n",
            "1/1 [==============================] - 0s 35ms/step\n",
            "1/1 [==============================] - 0s 31ms/step\n",
            "Generated Text:\n",
            "Edunet Foundation is and Social Coundation profit with the Economic an\n"
          ]
        }
      ]
    }
  ]
}