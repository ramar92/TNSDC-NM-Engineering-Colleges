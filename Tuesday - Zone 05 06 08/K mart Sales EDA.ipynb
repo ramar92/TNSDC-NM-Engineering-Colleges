{
 "cells": [
  {
   "cell_type": "markdown",
   "metadata": {},
   "source": [
    "# Import Libraries"
   ]
  },
  {
   "cell_type": "code",
   "execution_count": 1,
   "metadata": {},
   "outputs": [],
   "source": [
    "import pandas as pd"
   ]
  },
  {
   "cell_type": "markdown",
   "metadata": {},
   "source": [
    "# Loading Dataset and making Dataframes"
   ]
  },
  {
   "cell_type": "code",
   "execution_count": 2,
   "metadata": {},
   "outputs": [],
   "source": [
    "df1=pd.read_csv(\"Sales_January_2019.csv\")\n",
    "df1[\"month\"]=\"Jan\"\n",
    "df2=pd.read_csv(\"Sales_February_2019.csv\")\n",
    "df2[\"month\"]=\"feb\"\n",
    "df3=pd.read_csv(\"Sales_March_2019.csv\")\n",
    "df3[\"month\"]=\"mar\"\n",
    "df4=pd.read_csv(\"Sales_April_2019.csv\")\n",
    "df4[\"month\"]=\"apr\"\n",
    "df5=pd.read_csv(\"Sales_May_2019.csv\")\n",
    "df5[\"month\"]=\"may\"\n",
    "df6=pd.read_csv(\"Sales_June_2019.csv\")\n",
    "df6[\"month\"]=\"june\"\n",
    "df7=pd.read_csv(\"Sales_July_2019.csv\")\n",
    "df7[\"month\"]=\"july\"\n",
    "df8=pd.read_csv(\"Sales_August_2019.csv\")\n",
    "df8[\"month\"]=\"aug\"\n",
    "df9=pd.read_csv(\"Sales_September_2019.csv\")\n",
    "df9[\"month\"]=\"sep\"\n",
    "df10=pd.read_csv(\"Sales_October_2019.csv\")\n",
    "df10[\"month\"]=\"oct\"\n",
    "df11=pd.read_csv(\"Sales_November_2019.csv\")\n",
    "df11[\"month\"]=\"nov\"\n",
    "df12=pd.read_csv(\"Sales_December_2019.csv\")\n",
    "df12[\"month\"]=\"dec\""
   ]
  },
  {
   "cell_type": "code",
   "execution_count": 8,
   "metadata": {},
   "outputs": [],
   "source": [
    "list=[df1,df2,df3,df4,df5,df6,df7,df8,df9,df10,df11,df12]"
   ]
  },
  {
   "cell_type": "markdown",
   "metadata": {},
   "source": [
    "# Shape of each month's dataset"
   ]
  },
  {
   "cell_type": "code",
   "execution_count": 9,
   "metadata": {},
   "outputs": [
    {
     "name": "stdout",
     "output_type": "stream",
     "text": [
      "(9723, 7)\n",
      "(12036, 7)\n",
      "(15226, 7)\n",
      "(18383, 7)\n",
      "(16635, 7)\n",
      "(13622, 7)\n",
      "(14371, 7)\n",
      "(12011, 7)\n",
      "(11686, 7)\n",
      "(20379, 7)\n",
      "(17661, 7)\n",
      "(25117, 7)\n"
     ]
    }
   ],
   "source": [
    "for i in list:\n",
    "    print(i.shape)"
   ]
  },
  {
   "cell_type": "markdown",
   "metadata": {},
   "source": [
    "# Concatinating datset  "
   ]
  },
  {
   "cell_type": "code",
   "execution_count": 10,
   "metadata": {},
   "outputs": [],
   "source": [
    "frame=pd.concat(list)  "
   ]
  },
  {
   "cell_type": "code",
   "execution_count": 11,
   "metadata": {},
   "outputs": [
    {
     "data": {
      "text/html": [
       "<div>\n",
       "<style scoped>\n",
       "    .dataframe tbody tr th:only-of-type {\n",
       "        vertical-align: middle;\n",
       "    }\n",
       "\n",
       "    .dataframe tbody tr th {\n",
       "        vertical-align: top;\n",
       "    }\n",
       "\n",
       "    .dataframe thead th {\n",
       "        text-align: right;\n",
       "    }\n",
       "</style>\n",
       "<table border=\"1\" class=\"dataframe\">\n",
       "  <thead>\n",
       "    <tr style=\"text-align: right;\">\n",
       "      <th></th>\n",
       "      <th>Order ID</th>\n",
       "      <th>Product</th>\n",
       "      <th>Quantity Ordered</th>\n",
       "      <th>Price Each</th>\n",
       "      <th>Order Date</th>\n",
       "      <th>Purchase Address</th>\n",
       "      <th>month</th>\n",
       "    </tr>\n",
       "  </thead>\n",
       "  <tbody>\n",
       "    <tr>\n",
       "      <th>0</th>\n",
       "      <td>141234</td>\n",
       "      <td>iPhone</td>\n",
       "      <td>1</td>\n",
       "      <td>700</td>\n",
       "      <td>01/22/19 21:25</td>\n",
       "      <td>944 Walnut St, Boston, MA 02215</td>\n",
       "      <td>Jan</td>\n",
       "    </tr>\n",
       "    <tr>\n",
       "      <th>1</th>\n",
       "      <td>141235</td>\n",
       "      <td>Lightning Charging Cable</td>\n",
       "      <td>1</td>\n",
       "      <td>14.95</td>\n",
       "      <td>01/28/19 14:15</td>\n",
       "      <td>185 Maple St, Portland, OR 97035</td>\n",
       "      <td>Jan</td>\n",
       "    </tr>\n",
       "    <tr>\n",
       "      <th>2</th>\n",
       "      <td>141236</td>\n",
       "      <td>Wired Headphones</td>\n",
       "      <td>2</td>\n",
       "      <td>11.99</td>\n",
       "      <td>01/17/19 13:33</td>\n",
       "      <td>538 Adams St, San Francisco, CA 94016</td>\n",
       "      <td>Jan</td>\n",
       "    </tr>\n",
       "    <tr>\n",
       "      <th>3</th>\n",
       "      <td>141237</td>\n",
       "      <td>27in FHD Monitor</td>\n",
       "      <td>1</td>\n",
       "      <td>149.99</td>\n",
       "      <td>01/05/19 20:33</td>\n",
       "      <td>738 10th St, Los Angeles, CA 90001</td>\n",
       "      <td>Jan</td>\n",
       "    </tr>\n",
       "    <tr>\n",
       "      <th>4</th>\n",
       "      <td>141238</td>\n",
       "      <td>Wired Headphones</td>\n",
       "      <td>1</td>\n",
       "      <td>11.99</td>\n",
       "      <td>01/25/19 11:59</td>\n",
       "      <td>387 10th St, Austin, TX 73301</td>\n",
       "      <td>Jan</td>\n",
       "    </tr>\n",
       "    <tr>\n",
       "      <th>...</th>\n",
       "      <td>...</td>\n",
       "      <td>...</td>\n",
       "      <td>...</td>\n",
       "      <td>...</td>\n",
       "      <td>...</td>\n",
       "      <td>...</td>\n",
       "      <td>...</td>\n",
       "    </tr>\n",
       "    <tr>\n",
       "      <th>25112</th>\n",
       "      <td>319666</td>\n",
       "      <td>Lightning Charging Cable</td>\n",
       "      <td>1</td>\n",
       "      <td>14.95</td>\n",
       "      <td>12/11/19 20:58</td>\n",
       "      <td>14 Madison St, San Francisco, CA 94016</td>\n",
       "      <td>dec</td>\n",
       "    </tr>\n",
       "    <tr>\n",
       "      <th>25113</th>\n",
       "      <td>319667</td>\n",
       "      <td>AA Batteries (4-pack)</td>\n",
       "      <td>2</td>\n",
       "      <td>3.84</td>\n",
       "      <td>12/01/19 12:01</td>\n",
       "      <td>549 Willow St, Los Angeles, CA 90001</td>\n",
       "      <td>dec</td>\n",
       "    </tr>\n",
       "    <tr>\n",
       "      <th>25114</th>\n",
       "      <td>319668</td>\n",
       "      <td>Vareebadd Phone</td>\n",
       "      <td>1</td>\n",
       "      <td>400</td>\n",
       "      <td>12/09/19 06:43</td>\n",
       "      <td>273 Wilson St, Seattle, WA 98101</td>\n",
       "      <td>dec</td>\n",
       "    </tr>\n",
       "    <tr>\n",
       "      <th>25115</th>\n",
       "      <td>319669</td>\n",
       "      <td>Wired Headphones</td>\n",
       "      <td>1</td>\n",
       "      <td>11.99</td>\n",
       "      <td>12/03/19 10:39</td>\n",
       "      <td>778 River St, Dallas, TX 75001</td>\n",
       "      <td>dec</td>\n",
       "    </tr>\n",
       "    <tr>\n",
       "      <th>25116</th>\n",
       "      <td>319670</td>\n",
       "      <td>Bose SoundSport Headphones</td>\n",
       "      <td>1</td>\n",
       "      <td>99.99</td>\n",
       "      <td>12/21/19 21:45</td>\n",
       "      <td>747 Chestnut St, Los Angeles, CA 90001</td>\n",
       "      <td>dec</td>\n",
       "    </tr>\n",
       "  </tbody>\n",
       "</table>\n",
       "<p>186850 rows × 7 columns</p>\n",
       "</div>"
      ],
      "text/plain": [
       "      Order ID                     Product Quantity Ordered Price Each  \\\n",
       "0       141234                      iPhone                1        700   \n",
       "1       141235    Lightning Charging Cable                1      14.95   \n",
       "2       141236            Wired Headphones                2      11.99   \n",
       "3       141237            27in FHD Monitor                1     149.99   \n",
       "4       141238            Wired Headphones                1      11.99   \n",
       "...        ...                         ...              ...        ...   \n",
       "25112   319666    Lightning Charging Cable                1      14.95   \n",
       "25113   319667       AA Batteries (4-pack)                2       3.84   \n",
       "25114   319668             Vareebadd Phone                1        400   \n",
       "25115   319669            Wired Headphones                1      11.99   \n",
       "25116   319670  Bose SoundSport Headphones                1      99.99   \n",
       "\n",
       "           Order Date                        Purchase Address month  \n",
       "0      01/22/19 21:25         944 Walnut St, Boston, MA 02215   Jan  \n",
       "1      01/28/19 14:15        185 Maple St, Portland, OR 97035   Jan  \n",
       "2      01/17/19 13:33   538 Adams St, San Francisco, CA 94016   Jan  \n",
       "3      01/05/19 20:33      738 10th St, Los Angeles, CA 90001   Jan  \n",
       "4      01/25/19 11:59           387 10th St, Austin, TX 73301   Jan  \n",
       "...               ...                                     ...   ...  \n",
       "25112  12/11/19 20:58  14 Madison St, San Francisco, CA 94016   dec  \n",
       "25113  12/01/19 12:01    549 Willow St, Los Angeles, CA 90001   dec  \n",
       "25114  12/09/19 06:43        273 Wilson St, Seattle, WA 98101   dec  \n",
       "25115  12/03/19 10:39          778 River St, Dallas, TX 75001   dec  \n",
       "25116  12/21/19 21:45  747 Chestnut St, Los Angeles, CA 90001   dec  \n",
       "\n",
       "[186850 rows x 7 columns]"
      ]
     },
     "execution_count": 11,
     "metadata": {},
     "output_type": "execute_result"
    }
   ],
   "source": [
    "frame"
   ]
  },
  {
   "cell_type": "markdown",
   "metadata": {},
   "source": [
    "# Columns of Final Dataset"
   ]
  },
  {
   "cell_type": "code",
   "execution_count": 46,
   "metadata": {},
   "outputs": [
    {
     "data": {
      "text/plain": [
       "Index(['Order ID', 'Product', 'Quantity Ordered', 'Price Each', 'Order Date',\n",
       "       'Purchase Address', 'month'],\n",
       "      dtype='object')"
      ]
     },
     "execution_count": 46,
     "metadata": {},
     "output_type": "execute_result"
    }
   ],
   "source": [
    "frame.columns"
   ]
  },
  {
   "cell_type": "code",
   "execution_count": 47,
   "metadata": {},
   "outputs": [
    {
     "name": "stdout",
     "output_type": "stream",
     "text": [
      "<class 'pandas.core.frame.DataFrame'>\n",
      "Int64Index: 186850 entries, 0 to 25116\n",
      "Data columns (total 7 columns):\n",
      "Order ID            186305 non-null object\n",
      "Product             186305 non-null object\n",
      "Quantity Ordered    186305 non-null object\n",
      "Price Each          186305 non-null object\n",
      "Order Date          186305 non-null object\n",
      "Purchase Address    186305 non-null object\n",
      "month               186850 non-null object\n",
      "dtypes: object(7)\n",
      "memory usage: 11.4+ MB\n"
     ]
    }
   ],
   "source": [
    "frame.info()"
   ]
  },
  {
   "cell_type": "code",
   "execution_count": 48,
   "metadata": {},
   "outputs": [
    {
     "data": {
      "text/html": [
       "<div>\n",
       "<style scoped>\n",
       "    .dataframe tbody tr th:only-of-type {\n",
       "        vertical-align: middle;\n",
       "    }\n",
       "\n",
       "    .dataframe tbody tr th {\n",
       "        vertical-align: top;\n",
       "    }\n",
       "\n",
       "    .dataframe thead th {\n",
       "        text-align: right;\n",
       "    }\n",
       "</style>\n",
       "<table border=\"1\" class=\"dataframe\">\n",
       "  <thead>\n",
       "    <tr style=\"text-align: right;\">\n",
       "      <th></th>\n",
       "      <th>Order ID</th>\n",
       "      <th>Product</th>\n",
       "      <th>Quantity Ordered</th>\n",
       "      <th>Price Each</th>\n",
       "      <th>Order Date</th>\n",
       "      <th>Purchase Address</th>\n",
       "      <th>month</th>\n",
       "    </tr>\n",
       "  </thead>\n",
       "  <tbody>\n",
       "    <tr>\n",
       "      <td>0</td>\n",
       "      <td>141234</td>\n",
       "      <td>iPhone</td>\n",
       "      <td>1</td>\n",
       "      <td>700</td>\n",
       "      <td>01/22/19 21:25</td>\n",
       "      <td>944 Walnut St, Boston, MA 02215</td>\n",
       "      <td>Jan</td>\n",
       "    </tr>\n",
       "    <tr>\n",
       "      <td>1</td>\n",
       "      <td>141235</td>\n",
       "      <td>Lightning Charging Cable</td>\n",
       "      <td>1</td>\n",
       "      <td>14.95</td>\n",
       "      <td>01/28/19 14:15</td>\n",
       "      <td>185 Maple St, Portland, OR 97035</td>\n",
       "      <td>Jan</td>\n",
       "    </tr>\n",
       "    <tr>\n",
       "      <td>2</td>\n",
       "      <td>141236</td>\n",
       "      <td>Wired Headphones</td>\n",
       "      <td>2</td>\n",
       "      <td>11.99</td>\n",
       "      <td>01/17/19 13:33</td>\n",
       "      <td>538 Adams St, San Francisco, CA 94016</td>\n",
       "      <td>Jan</td>\n",
       "    </tr>\n",
       "    <tr>\n",
       "      <td>3</td>\n",
       "      <td>141237</td>\n",
       "      <td>27in FHD Monitor</td>\n",
       "      <td>1</td>\n",
       "      <td>149.99</td>\n",
       "      <td>01/05/19 20:33</td>\n",
       "      <td>738 10th St, Los Angeles, CA 90001</td>\n",
       "      <td>Jan</td>\n",
       "    </tr>\n",
       "    <tr>\n",
       "      <td>4</td>\n",
       "      <td>141238</td>\n",
       "      <td>Wired Headphones</td>\n",
       "      <td>1</td>\n",
       "      <td>11.99</td>\n",
       "      <td>01/25/19 11:59</td>\n",
       "      <td>387 10th St, Austin, TX 73301</td>\n",
       "      <td>Jan</td>\n",
       "    </tr>\n",
       "  </tbody>\n",
       "</table>\n",
       "</div>"
      ],
      "text/plain": [
       "  Order ID                   Product Quantity Ordered Price Each  \\\n",
       "0   141234                    iPhone                1        700   \n",
       "1   141235  Lightning Charging Cable                1      14.95   \n",
       "2   141236          Wired Headphones                2      11.99   \n",
       "3   141237          27in FHD Monitor                1     149.99   \n",
       "4   141238          Wired Headphones                1      11.99   \n",
       "\n",
       "       Order Date                       Purchase Address month  \n",
       "0  01/22/19 21:25        944 Walnut St, Boston, MA 02215   Jan  \n",
       "1  01/28/19 14:15       185 Maple St, Portland, OR 97035   Jan  \n",
       "2  01/17/19 13:33  538 Adams St, San Francisco, CA 94016   Jan  \n",
       "3  01/05/19 20:33     738 10th St, Los Angeles, CA 90001   Jan  \n",
       "4  01/25/19 11:59          387 10th St, Austin, TX 73301   Jan  "
      ]
     },
     "execution_count": 48,
     "metadata": {},
     "output_type": "execute_result"
    }
   ],
   "source": [
    "frame.head()"
   ]
  },
  {
   "cell_type": "code",
   "execution_count": 49,
   "metadata": {},
   "outputs": [
    {
     "data": {
      "text/plain": [
       "(186850, 7)"
      ]
     },
     "execution_count": 49,
     "metadata": {},
     "output_type": "execute_result"
    }
   ],
   "source": [
    "frame.shape  # dataframe has 186850 rows and 7 columns"
   ]
  },
  {
   "cell_type": "markdown",
   "metadata": {},
   "source": [
    "# Null values in dataset"
   ]
  },
  {
   "cell_type": "code",
   "execution_count": 50,
   "metadata": {},
   "outputs": [
    {
     "data": {
      "text/plain": [
       "Order ID            545\n",
       "Product             545\n",
       "Quantity Ordered    545\n",
       "Price Each          545\n",
       "Order Date          545\n",
       "Purchase Address    545\n",
       "month                 0\n",
       "dtype: int64"
      ]
     },
     "execution_count": 50,
     "metadata": {},
     "output_type": "execute_result"
    }
   ],
   "source": [
    "frame.isnull().sum() # there are 545 null values in each column except month"
   ]
  },
  {
   "cell_type": "code",
   "execution_count": 51,
   "metadata": {},
   "outputs": [
    {
     "data": {
      "text/plain": [
       "1.75006689858175"
      ]
     },
     "execution_count": 51,
     "metadata": {},
     "output_type": "execute_result"
    }
   ],
   "source": [
    "(frame.isnull().sum().sum())/len(frame)*100  # we have 1.75 percent null values , so we can drop them"
   ]
  },
  {
   "cell_type": "markdown",
   "metadata": {},
   "source": [
    "# Dropping Null Values"
   ]
  },
  {
   "cell_type": "code",
   "execution_count": 12,
   "metadata": {},
   "outputs": [],
   "source": [
    "frame=frame.dropna()"
   ]
  },
  {
   "cell_type": "code",
   "execution_count": 13,
   "metadata": {},
   "outputs": [
    {
     "data": {
      "text/plain": [
       "Order ID            0\n",
       "Product             0\n",
       "Quantity Ordered    0\n",
       "Price Each          0\n",
       "Order Date          0\n",
       "Purchase Address    0\n",
       "month               0\n",
       "dtype: int64"
      ]
     },
     "execution_count": 13,
     "metadata": {},
     "output_type": "execute_result"
    }
   ],
   "source": [
    "frame.isnull().sum()"
   ]
  },
  {
   "cell_type": "code",
   "execution_count": 54,
   "metadata": {},
   "outputs": [
    {
     "data": {
      "text/plain": [
       "(186305, 7)"
      ]
     },
     "execution_count": 54,
     "metadata": {},
     "output_type": "execute_result"
    }
   ],
   "source": [
    "frame.shape"
   ]
  },
  {
   "cell_type": "code",
   "execution_count": 55,
   "metadata": {},
   "outputs": [
    {
     "name": "stdout",
     "output_type": "stream",
     "text": [
      "<class 'pandas.core.frame.DataFrame'>\n",
      "Int64Index: 186305 entries, 0 to 25116\n",
      "Data columns (total 7 columns):\n",
      "Order ID            186305 non-null object\n",
      "Product             186305 non-null object\n",
      "Quantity Ordered    186305 non-null object\n",
      "Price Each          186305 non-null object\n",
      "Order Date          186305 non-null object\n",
      "Purchase Address    186305 non-null object\n",
      "month               186305 non-null object\n",
      "dtypes: object(7)\n",
      "memory usage: 11.4+ MB\n"
     ]
    }
   ],
   "source": [
    "frame.info()"
   ]
  },
  {
   "cell_type": "code",
   "execution_count": 60,
   "metadata": {},
   "outputs": [
    {
     "data": {
      "text/html": [
       "<div>\n",
       "<style scoped>\n",
       "    .dataframe tbody tr th:only-of-type {\n",
       "        vertical-align: middle;\n",
       "    }\n",
       "\n",
       "    .dataframe tbody tr th {\n",
       "        vertical-align: top;\n",
       "    }\n",
       "\n",
       "    .dataframe thead th {\n",
       "        text-align: right;\n",
       "    }\n",
       "</style>\n",
       "<table border=\"1\" class=\"dataframe\">\n",
       "  <thead>\n",
       "    <tr style=\"text-align: right;\">\n",
       "      <th></th>\n",
       "      <th>Order ID</th>\n",
       "      <th>Product</th>\n",
       "      <th>Quantity Ordered</th>\n",
       "      <th>Price Each</th>\n",
       "      <th>Order Date</th>\n",
       "      <th>Purchase Address</th>\n",
       "      <th>month</th>\n",
       "    </tr>\n",
       "  </thead>\n",
       "  <tbody>\n",
       "    <tr>\n",
       "      <td>1073</td>\n",
       "      <td>Order ID</td>\n",
       "      <td>Product</td>\n",
       "      <td>Quantity Ordered</td>\n",
       "      <td>Price Each</td>\n",
       "      <td>Order Date</td>\n",
       "      <td>Purchase Address</td>\n",
       "      <td>Jan</td>\n",
       "    </tr>\n",
       "    <tr>\n",
       "      <td>1102</td>\n",
       "      <td>Order ID</td>\n",
       "      <td>Product</td>\n",
       "      <td>Quantity Ordered</td>\n",
       "      <td>Price Each</td>\n",
       "      <td>Order Date</td>\n",
       "      <td>Purchase Address</td>\n",
       "      <td>Jan</td>\n",
       "    </tr>\n",
       "    <tr>\n",
       "      <td>1194</td>\n",
       "      <td>Order ID</td>\n",
       "      <td>Product</td>\n",
       "      <td>Quantity Ordered</td>\n",
       "      <td>Price Each</td>\n",
       "      <td>Order Date</td>\n",
       "      <td>Purchase Address</td>\n",
       "      <td>Jan</td>\n",
       "    </tr>\n",
       "    <tr>\n",
       "      <td>1897</td>\n",
       "      <td>Order ID</td>\n",
       "      <td>Product</td>\n",
       "      <td>Quantity Ordered</td>\n",
       "      <td>Price Each</td>\n",
       "      <td>Order Date</td>\n",
       "      <td>Purchase Address</td>\n",
       "      <td>Jan</td>\n",
       "    </tr>\n",
       "    <tr>\n",
       "      <td>2463</td>\n",
       "      <td>Order ID</td>\n",
       "      <td>Product</td>\n",
       "      <td>Quantity Ordered</td>\n",
       "      <td>Price Each</td>\n",
       "      <td>Order Date</td>\n",
       "      <td>Purchase Address</td>\n",
       "      <td>Jan</td>\n",
       "    </tr>\n",
       "    <tr>\n",
       "      <td>...</td>\n",
       "      <td>...</td>\n",
       "      <td>...</td>\n",
       "      <td>...</td>\n",
       "      <td>...</td>\n",
       "      <td>...</td>\n",
       "      <td>...</td>\n",
       "      <td>...</td>\n",
       "    </tr>\n",
       "    <tr>\n",
       "      <td>23198</td>\n",
       "      <td>Order ID</td>\n",
       "      <td>Product</td>\n",
       "      <td>Quantity Ordered</td>\n",
       "      <td>Price Each</td>\n",
       "      <td>Order Date</td>\n",
       "      <td>Purchase Address</td>\n",
       "      <td>dec</td>\n",
       "    </tr>\n",
       "    <tr>\n",
       "      <td>23337</td>\n",
       "      <td>Order ID</td>\n",
       "      <td>Product</td>\n",
       "      <td>Quantity Ordered</td>\n",
       "      <td>Price Each</td>\n",
       "      <td>Order Date</td>\n",
       "      <td>Purchase Address</td>\n",
       "      <td>dec</td>\n",
       "    </tr>\n",
       "    <tr>\n",
       "      <td>23748</td>\n",
       "      <td>Order ID</td>\n",
       "      <td>Product</td>\n",
       "      <td>Quantity Ordered</td>\n",
       "      <td>Price Each</td>\n",
       "      <td>Order Date</td>\n",
       "      <td>Purchase Address</td>\n",
       "      <td>dec</td>\n",
       "    </tr>\n",
       "    <tr>\n",
       "      <td>24192</td>\n",
       "      <td>Order ID</td>\n",
       "      <td>Product</td>\n",
       "      <td>Quantity Ordered</td>\n",
       "      <td>Price Each</td>\n",
       "      <td>Order Date</td>\n",
       "      <td>Purchase Address</td>\n",
       "      <td>dec</td>\n",
       "    </tr>\n",
       "    <tr>\n",
       "      <td>24222</td>\n",
       "      <td>Order ID</td>\n",
       "      <td>Product</td>\n",
       "      <td>Quantity Ordered</td>\n",
       "      <td>Price Each</td>\n",
       "      <td>Order Date</td>\n",
       "      <td>Purchase Address</td>\n",
       "      <td>dec</td>\n",
       "    </tr>\n",
       "  </tbody>\n",
       "</table>\n",
       "<p>355 rows × 7 columns</p>\n",
       "</div>"
      ],
      "text/plain": [
       "       Order ID  Product  Quantity Ordered  Price Each  Order Date  \\\n",
       "1073   Order ID  Product  Quantity Ordered  Price Each  Order Date   \n",
       "1102   Order ID  Product  Quantity Ordered  Price Each  Order Date   \n",
       "1194   Order ID  Product  Quantity Ordered  Price Each  Order Date   \n",
       "1897   Order ID  Product  Quantity Ordered  Price Each  Order Date   \n",
       "2463   Order ID  Product  Quantity Ordered  Price Each  Order Date   \n",
       "...         ...      ...               ...         ...         ...   \n",
       "23198  Order ID  Product  Quantity Ordered  Price Each  Order Date   \n",
       "23337  Order ID  Product  Quantity Ordered  Price Each  Order Date   \n",
       "23748  Order ID  Product  Quantity Ordered  Price Each  Order Date   \n",
       "24192  Order ID  Product  Quantity Ordered  Price Each  Order Date   \n",
       "24222  Order ID  Product  Quantity Ordered  Price Each  Order Date   \n",
       "\n",
       "       Purchase Address month  \n",
       "1073   Purchase Address   Jan  \n",
       "1102   Purchase Address   Jan  \n",
       "1194   Purchase Address   Jan  \n",
       "1897   Purchase Address   Jan  \n",
       "2463   Purchase Address   Jan  \n",
       "...                 ...   ...  \n",
       "23198  Purchase Address   dec  \n",
       "23337  Purchase Address   dec  \n",
       "23748  Purchase Address   dec  \n",
       "24192  Purchase Address   dec  \n",
       "24222  Purchase Address   dec  \n",
       "\n",
       "[355 rows x 7 columns]"
      ]
     },
     "execution_count": 60,
     "metadata": {},
     "output_type": "execute_result"
    }
   ],
   "source": [
    "frame[frame['Quantity Ordered'] == \"Quantity Ordered\"]"
   ]
  },
  {
   "cell_type": "markdown",
   "metadata": {},
   "source": [
    "we observed that there are 355 columns in which values in rows are same as header. so making a new datframe where these values will be excluded."
   ]
  },
  {
   "cell_type": "code",
   "execution_count": 61,
   "metadata": {},
   "outputs": [
    {
     "data": {
      "text/plain": [
       "(185950, 7)"
      ]
     },
     "execution_count": 61,
     "metadata": {},
     "output_type": "execute_result"
    }
   ],
   "source": [
    "df_filtered = frame[frame['Quantity Ordered'] != \"Quantity Ordered\"] \n",
    "df_filtered.head(15) \n",
    "df_filtered.shape"
   ]
  },
  {
   "cell_type": "code",
   "execution_count": 62,
   "metadata": {},
   "outputs": [
    {
     "data": {
      "text/plain": [
       "array(['1', '2', '3', '5', '4', '7', '6', '9', '8'], dtype=object)"
      ]
     },
     "execution_count": 62,
     "metadata": {},
     "output_type": "execute_result"
    }
   ],
   "source": [
    "df_filtered[\"Quantity Ordered\"].unique()"
   ]
  },
  {
   "cell_type": "code",
   "execution_count": 63,
   "metadata": {},
   "outputs": [
    {
     "data": {
      "text/plain": [
       "19"
      ]
     },
     "execution_count": 63,
     "metadata": {},
     "output_type": "execute_result"
    }
   ],
   "source": [
    "df_filtered[\"Product\"].nunique()"
   ]
  },
  {
   "cell_type": "code",
   "execution_count": 65,
   "metadata": {},
   "outputs": [
    {
     "data": {
      "text/plain": [
       "178437"
      ]
     },
     "execution_count": 65,
     "metadata": {},
     "output_type": "execute_result"
    }
   ],
   "source": [
    "df_filtered[\"Order ID\"].nunique()"
   ]
  },
  {
   "cell_type": "markdown",
   "metadata": {},
   "source": [
    "# Qs 1 .What was the best month for sales ? How much was earned that month?"
   ]
  },
  {
   "cell_type": "code",
   "execution_count": 69,
   "metadata": {},
   "outputs": [
    {
     "name": "stderr",
     "output_type": "stream",
     "text": [
      "C:\\Users\\juhi\\Anaconda3\\lib\\site-packages\\ipykernel_launcher.py:1: SettingWithCopyWarning: \n",
      "A value is trying to be set on a copy of a slice from a DataFrame.\n",
      "Try using .loc[row_indexer,col_indexer] = value instead\n",
      "\n",
      "See the caveats in the documentation: http://pandas.pydata.org/pandas-docs/stable/user_guide/indexing.html#returning-a-view-versus-a-copy\n",
      "  \"\"\"Entry point for launching an IPython kernel.\n",
      "C:\\Users\\juhi\\Anaconda3\\lib\\site-packages\\ipykernel_launcher.py:2: SettingWithCopyWarning: \n",
      "A value is trying to be set on a copy of a slice from a DataFrame.\n",
      "Try using .loc[row_indexer,col_indexer] = value instead\n",
      "\n",
      "See the caveats in the documentation: http://pandas.pydata.org/pandas-docs/stable/user_guide/indexing.html#returning-a-view-versus-a-copy\n",
      "  \n"
     ]
    }
   ],
   "source": [
    "df_filtered[\"Quantity Ordered\"]=df_filtered[\"Quantity Ordered\"].astype(\"float\")\n",
    "df_filtered[\"Price Each\"]=df_filtered[\"Price Each\"].astype(\"float\")       "
   ]
  },
  {
   "cell_type": "code",
   "execution_count": 70,
   "metadata": {},
   "outputs": [
    {
     "name": "stdout",
     "output_type": "stream",
     "text": [
      "<class 'pandas.core.frame.DataFrame'>\n",
      "Int64Index: 185950 entries, 0 to 25116\n",
      "Data columns (total 7 columns):\n",
      "Order ID            185950 non-null object\n",
      "Product             185950 non-null object\n",
      "Quantity Ordered    185950 non-null float64\n",
      "Price Each          185950 non-null float64\n",
      "Order Date          185950 non-null object\n",
      "Purchase Address    185950 non-null object\n",
      "month               185950 non-null object\n",
      "dtypes: float64(2), object(5)\n",
      "memory usage: 11.3+ MB\n"
     ]
    }
   ],
   "source": [
    "df_filtered.info()"
   ]
  },
  {
   "cell_type": "code",
   "execution_count": 71,
   "metadata": {},
   "outputs": [
    {
     "data": {
      "text/plain": [
       "<bound method IndexOpsMixin.nunique of 0        700.00\n",
       "1         14.95\n",
       "2         11.99\n",
       "3        149.99\n",
       "4         11.99\n",
       "          ...  \n",
       "25112     14.95\n",
       "25113      3.84\n",
       "25114    400.00\n",
       "25115     11.99\n",
       "25116     99.99\n",
       "Name: Price Each, Length: 185950, dtype: float64>"
      ]
     },
     "execution_count": 71,
     "metadata": {},
     "output_type": "execute_result"
    }
   ],
   "source": [
    "df_filtered[\"Price Each\"].nunique"
   ]
  },
  {
   "cell_type": "code",
   "execution_count": 72,
   "metadata": {},
   "outputs": [
    {
     "name": "stderr",
     "output_type": "stream",
     "text": [
      "C:\\Users\\juhi\\Anaconda3\\lib\\site-packages\\ipykernel_launcher.py:1: SettingWithCopyWarning: \n",
      "A value is trying to be set on a copy of a slice from a DataFrame.\n",
      "Try using .loc[row_indexer,col_indexer] = value instead\n",
      "\n",
      "See the caveats in the documentation: http://pandas.pydata.org/pandas-docs/stable/user_guide/indexing.html#returning-a-view-versus-a-copy\n",
      "  \"\"\"Entry point for launching an IPython kernel.\n"
     ]
    }
   ],
   "source": [
    "df_filtered[\"sales\"]=df_filtered[\"Quantity Ordered\"]*df_filtered[\"Price Each\"]"
   ]
  },
  {
   "cell_type": "code",
   "execution_count": 73,
   "metadata": {},
   "outputs": [
    {
     "data": {
      "text/html": [
       "<div>\n",
       "<style scoped>\n",
       "    .dataframe tbody tr th:only-of-type {\n",
       "        vertical-align: middle;\n",
       "    }\n",
       "\n",
       "    .dataframe tbody tr th {\n",
       "        vertical-align: top;\n",
       "    }\n",
       "\n",
       "    .dataframe thead th {\n",
       "        text-align: right;\n",
       "    }\n",
       "</style>\n",
       "<table border=\"1\" class=\"dataframe\">\n",
       "  <thead>\n",
       "    <tr style=\"text-align: right;\">\n",
       "      <th></th>\n",
       "      <th>Order ID</th>\n",
       "      <th>Product</th>\n",
       "      <th>Quantity Ordered</th>\n",
       "      <th>Price Each</th>\n",
       "      <th>Order Date</th>\n",
       "      <th>Purchase Address</th>\n",
       "      <th>month</th>\n",
       "      <th>sales</th>\n",
       "    </tr>\n",
       "  </thead>\n",
       "  <tbody>\n",
       "    <tr>\n",
       "      <td>0</td>\n",
       "      <td>141234</td>\n",
       "      <td>iPhone</td>\n",
       "      <td>1.0</td>\n",
       "      <td>700.00</td>\n",
       "      <td>01/22/19 21:25</td>\n",
       "      <td>944 Walnut St, Boston, MA 02215</td>\n",
       "      <td>Jan</td>\n",
       "      <td>700.00</td>\n",
       "    </tr>\n",
       "    <tr>\n",
       "      <td>1</td>\n",
       "      <td>141235</td>\n",
       "      <td>Lightning Charging Cable</td>\n",
       "      <td>1.0</td>\n",
       "      <td>14.95</td>\n",
       "      <td>01/28/19 14:15</td>\n",
       "      <td>185 Maple St, Portland, OR 97035</td>\n",
       "      <td>Jan</td>\n",
       "      <td>14.95</td>\n",
       "    </tr>\n",
       "    <tr>\n",
       "      <td>2</td>\n",
       "      <td>141236</td>\n",
       "      <td>Wired Headphones</td>\n",
       "      <td>2.0</td>\n",
       "      <td>11.99</td>\n",
       "      <td>01/17/19 13:33</td>\n",
       "      <td>538 Adams St, San Francisco, CA 94016</td>\n",
       "      <td>Jan</td>\n",
       "      <td>23.98</td>\n",
       "    </tr>\n",
       "    <tr>\n",
       "      <td>3</td>\n",
       "      <td>141237</td>\n",
       "      <td>27in FHD Monitor</td>\n",
       "      <td>1.0</td>\n",
       "      <td>149.99</td>\n",
       "      <td>01/05/19 20:33</td>\n",
       "      <td>738 10th St, Los Angeles, CA 90001</td>\n",
       "      <td>Jan</td>\n",
       "      <td>149.99</td>\n",
       "    </tr>\n",
       "    <tr>\n",
       "      <td>4</td>\n",
       "      <td>141238</td>\n",
       "      <td>Wired Headphones</td>\n",
       "      <td>1.0</td>\n",
       "      <td>11.99</td>\n",
       "      <td>01/25/19 11:59</td>\n",
       "      <td>387 10th St, Austin, TX 73301</td>\n",
       "      <td>Jan</td>\n",
       "      <td>11.99</td>\n",
       "    </tr>\n",
       "  </tbody>\n",
       "</table>\n",
       "</div>"
      ],
      "text/plain": [
       "  Order ID                   Product  Quantity Ordered  Price Each  \\\n",
       "0   141234                    iPhone               1.0      700.00   \n",
       "1   141235  Lightning Charging Cable               1.0       14.95   \n",
       "2   141236          Wired Headphones               2.0       11.99   \n",
       "3   141237          27in FHD Monitor               1.0      149.99   \n",
       "4   141238          Wired Headphones               1.0       11.99   \n",
       "\n",
       "       Order Date                       Purchase Address month   sales  \n",
       "0  01/22/19 21:25        944 Walnut St, Boston, MA 02215   Jan  700.00  \n",
       "1  01/28/19 14:15       185 Maple St, Portland, OR 97035   Jan   14.95  \n",
       "2  01/17/19 13:33  538 Adams St, San Francisco, CA 94016   Jan   23.98  \n",
       "3  01/05/19 20:33     738 10th St, Los Angeles, CA 90001   Jan  149.99  \n",
       "4  01/25/19 11:59          387 10th St, Austin, TX 73301   Jan   11.99  "
      ]
     },
     "execution_count": 73,
     "metadata": {},
     "output_type": "execute_result"
    }
   ],
   "source": [
    "df_filtered.head()"
   ]
  },
  {
   "cell_type": "code",
   "execution_count": 74,
   "metadata": {},
   "outputs": [
    {
     "data": {
      "text/plain": [
       "array(['Jan', 'feb', 'mar', 'apr', 'may', 'june', 'july', 'aug', 'sep',\n",
       "       'oct', 'nov', 'dec'], dtype=object)"
      ]
     },
     "execution_count": 74,
     "metadata": {},
     "output_type": "execute_result"
    }
   ],
   "source": [
    "df_filtered[\"month\"].unique()"
   ]
  },
  {
   "cell_type": "code",
   "execution_count": 75,
   "metadata": {},
   "outputs": [
    {
     "name": "stdout",
     "output_type": "stream",
     "text": [
      "<class 'pandas.core.frame.DataFrame'>\n",
      "Int64Index: 185950 entries, 0 to 25116\n",
      "Data columns (total 8 columns):\n",
      "Order ID            185950 non-null object\n",
      "Product             185950 non-null object\n",
      "Quantity Ordered    185950 non-null float64\n",
      "Price Each          185950 non-null float64\n",
      "Order Date          185950 non-null object\n",
      "Purchase Address    185950 non-null object\n",
      "month               185950 non-null object\n",
      "sales               185950 non-null float64\n",
      "dtypes: float64(3), object(5)\n",
      "memory usage: 12.8+ MB\n"
     ]
    }
   ],
   "source": [
    "df_filtered.info()"
   ]
  },
  {
   "cell_type": "code",
   "execution_count": 76,
   "metadata": {},
   "outputs": [],
   "source": [
    "df=df_filtered.groupby(['month'])['sales'].sum().sort_values(ascending=False)\n",
    "df=df.to_frame()"
   ]
  },
  {
   "cell_type": "code",
   "execution_count": 77,
   "metadata": {},
   "outputs": [
    {
     "data": {
      "text/plain": [
       "<bound method DataFrame.info of               sales\n",
       "month              \n",
       "dec    4.619297e+06\n",
       "oct    3.736884e+06\n",
       "apr    3.396059e+06\n",
       "nov    3.198909e+06\n",
       "may    3.144585e+06\n",
       "mar    2.809063e+06\n",
       "july   2.646900e+06\n",
       "june   2.578293e+06\n",
       "aug    2.244412e+06\n",
       "feb    2.203481e+06\n",
       "sep    2.098817e+06\n",
       "Jan    1.815335e+06>"
      ]
     },
     "execution_count": 77,
     "metadata": {},
     "output_type": "execute_result"
    }
   ],
   "source": [
    "df.info"
   ]
  },
  {
   "cell_type": "code",
   "execution_count": 78,
   "metadata": {},
   "outputs": [
    {
     "data": {
      "text/plain": [
       "month\n",
       "dec     4.619297e+06\n",
       "oct     3.736884e+06\n",
       "apr     3.396059e+06\n",
       "nov     3.198909e+06\n",
       "may     3.144585e+06\n",
       "mar     2.809063e+06\n",
       "july    2.646900e+06\n",
       "june    2.578293e+06\n",
       "aug     2.244412e+06\n",
       "feb     2.203481e+06\n",
       "sep     2.098817e+06\n",
       "Jan     1.815335e+06\n",
       "Name: sales, dtype: float64"
      ]
     },
     "execution_count": 78,
     "metadata": {},
     "output_type": "execute_result"
    }
   ],
   "source": [
    "df[\"sales\"]"
   ]
  },
  {
   "cell_type": "code",
   "execution_count": 79,
   "metadata": {},
   "outputs": [
    {
     "data": {
      "text/plain": [
       "Index(['sales'], dtype='object')"
      ]
     },
     "execution_count": 79,
     "metadata": {},
     "output_type": "execute_result"
    }
   ],
   "source": [
    "df.columns"
   ]
  },
  {
   "cell_type": "code",
   "execution_count": 80,
   "metadata": {},
   "outputs": [],
   "source": [
    "month=[\"dec\",\"oct\",\"apr\",\"nov\",\"may\",\"mar\",\"july\",\"june\",\"aug\",'feb',\"sep\",\"jan\"] \n",
    "df[\"month\"]=month"
   ]
  },
  {
   "cell_type": "code",
   "execution_count": 82,
   "metadata": {},
   "outputs": [
    {
     "data": {
      "image/png": "[encoded data removed]",
      "text/plain": [
       "<Figure size 842.4x595.44 with 1 Axes>"
      ]
     },
     "metadata": {
      "needs_background": "light"
     },
     "output_type": "display_data"
    }
   ],
   "source": [
    "from matplotlib import pyplot as plt\n",
    "a4_dims = (11.7, 8.27)\n",
    "fig, ax = pyplot.subplots(figsize=a4_dims)\n",
    "import seaborn as sns\n",
    "sns.barplot(x = \"sales\",\n",
    "            y = \"month\",\n",
    "            data = df)\n",
    "plt.title(\"Month wise Sale\")\n",
    "plt.show()"
   ]
  },
  {
   "cell_type": "markdown",
   "metadata": {},
   "source": [
    "Best Month for sales  was DECEMBER\n",
    "Total sales in December is  $ 4619297 ( four million six hundred ninteen thousand two hundred ninety seven dollars)"
   ]
  },
  {
   "cell_type": "markdown",
   "metadata": {},
   "source": [
    "# Qs 2 . Which city had the highest number of sales ?"
   ]
  },
  {
   "cell_type": "code",
   "execution_count": 83,
   "metadata": {},
   "outputs": [
    {
     "name": "stdout",
     "output_type": "stream",
     "text": [
      "<class 'pandas.core.frame.DataFrame'>\n",
      "Int64Index: 185950 entries, 0 to 25116\n",
      "Data columns (total 8 columns):\n",
      "Order ID            185950 non-null object\n",
      "Product             185950 non-null object\n",
      "Quantity Ordered    185950 non-null float64\n",
      "Price Each          185950 non-null float64\n",
      "Order Date          185950 non-null object\n",
      "Purchase Address    185950 non-null object\n",
      "month               185950 non-null object\n",
      "sales               185950 non-null float64\n",
      "dtypes: float64(3), object(5)\n",
      "memory usage: 12.8+ MB\n"
     ]
    }
   ],
   "source": [
    "df_filtered.info()"
   ]
  },
  {
   "cell_type": "code",
   "execution_count": 84,
   "metadata": {},
   "outputs": [
    {
     "name": "stderr",
     "output_type": "stream",
     "text": [
      "C:\\Users\\juhi\\Anaconda3\\lib\\site-packages\\ipykernel_launcher.py:5: SettingWithCopyWarning: \n",
      "A value is trying to be set on a copy of a slice from a DataFrame.\n",
      "Try using .loc[row_indexer,col_indexer] = value instead\n",
      "\n",
      "See the caveats in the documentation: http://pandas.pydata.org/pandas-docs/stable/user_guide/indexing.html#returning-a-view-versus-a-copy\n",
      "  \"\"\"\n"
     ]
    },
    {
     "data": {
      "text/html": [
       "<div>\n",
       "<style scoped>\n",
       "    .dataframe tbody tr th:only-of-type {\n",
       "        vertical-align: middle;\n",
       "    }\n",
       "\n",
       "    .dataframe tbody tr th {\n",
       "        vertical-align: top;\n",
       "    }\n",
       "\n",
       "    .dataframe thead th {\n",
       "        text-align: right;\n",
       "    }\n",
       "</style>\n",
       "<table border=\"1\" class=\"dataframe\">\n",
       "  <thead>\n",
       "    <tr style=\"text-align: right;\">\n",
       "      <th></th>\n",
       "      <th>Order ID</th>\n",
       "      <th>Product</th>\n",
       "      <th>Quantity Ordered</th>\n",
       "      <th>Price Each</th>\n",
       "      <th>Order Date</th>\n",
       "      <th>Purchase Address</th>\n",
       "      <th>month</th>\n",
       "      <th>sales</th>\n",
       "      <th>City</th>\n",
       "    </tr>\n",
       "  </thead>\n",
       "  <tbody>\n",
       "    <tr>\n",
       "      <td>0</td>\n",
       "      <td>141234</td>\n",
       "      <td>iPhone</td>\n",
       "      <td>1.0</td>\n",
       "      <td>700.00</td>\n",
       "      <td>01/22/19 21:25</td>\n",
       "      <td>944 Walnut St, Boston, MA 02215</td>\n",
       "      <td>Jan</td>\n",
       "      <td>700.00</td>\n",
       "      <td>Boston</td>\n",
       "    </tr>\n",
       "    <tr>\n",
       "      <td>1</td>\n",
       "      <td>141235</td>\n",
       "      <td>Lightning Charging Cable</td>\n",
       "      <td>1.0</td>\n",
       "      <td>14.95</td>\n",
       "      <td>01/28/19 14:15</td>\n",
       "      <td>185 Maple St, Portland, OR 97035</td>\n",
       "      <td>Jan</td>\n",
       "      <td>14.95</td>\n",
       "      <td>Portland</td>\n",
       "    </tr>\n",
       "    <tr>\n",
       "      <td>2</td>\n",
       "      <td>141236</td>\n",
       "      <td>Wired Headphones</td>\n",
       "      <td>2.0</td>\n",
       "      <td>11.99</td>\n",
       "      <td>01/17/19 13:33</td>\n",
       "      <td>538 Adams St, San Francisco, CA 94016</td>\n",
       "      <td>Jan</td>\n",
       "      <td>23.98</td>\n",
       "      <td>San Francisco</td>\n",
       "    </tr>\n",
       "    <tr>\n",
       "      <td>3</td>\n",
       "      <td>141237</td>\n",
       "      <td>27in FHD Monitor</td>\n",
       "      <td>1.0</td>\n",
       "      <td>149.99</td>\n",
       "      <td>01/05/19 20:33</td>\n",
       "      <td>738 10th St, Los Angeles, CA 90001</td>\n",
       "      <td>Jan</td>\n",
       "      <td>149.99</td>\n",
       "      <td>Los Angeles</td>\n",
       "    </tr>\n",
       "    <tr>\n",
       "      <td>4</td>\n",
       "      <td>141238</td>\n",
       "      <td>Wired Headphones</td>\n",
       "      <td>1.0</td>\n",
       "      <td>11.99</td>\n",
       "      <td>01/25/19 11:59</td>\n",
       "      <td>387 10th St, Austin, TX 73301</td>\n",
       "      <td>Jan</td>\n",
       "      <td>11.99</td>\n",
       "      <td>Austin</td>\n",
       "    </tr>\n",
       "  </tbody>\n",
       "</table>\n",
       "</div>"
      ],
      "text/plain": [
       "  Order ID                   Product  Quantity Ordered  Price Each  \\\n",
       "0   141234                    iPhone               1.0      700.00   \n",
       "1   141235  Lightning Charging Cable               1.0       14.95   \n",
       "2   141236          Wired Headphones               2.0       11.99   \n",
       "3   141237          27in FHD Monitor               1.0      149.99   \n",
       "4   141238          Wired Headphones               1.0       11.99   \n",
       "\n",
       "       Order Date                       Purchase Address month   sales  \\\n",
       "0  01/22/19 21:25        944 Walnut St, Boston, MA 02215   Jan  700.00   \n",
       "1  01/28/19 14:15       185 Maple St, Portland, OR 97035   Jan   14.95   \n",
       "2  01/17/19 13:33  538 Adams St, San Francisco, CA 94016   Jan   23.98   \n",
       "3  01/05/19 20:33     738 10th St, Los Angeles, CA 90001   Jan  149.99   \n",
       "4  01/25/19 11:59          387 10th St, Austin, TX 73301   Jan   11.99   \n",
       "\n",
       "             City  \n",
       "0          Boston  \n",
       "1        Portland  \n",
       "2   San Francisco  \n",
       "3     Los Angeles  \n",
       "4          Austin  "
      ]
     },
     "execution_count": 84,
     "metadata": {},
     "output_type": "execute_result"
    }
   ],
   "source": [
    "dftemp = df_filtered\n",
    "list_city = []\n",
    "for i in dftemp['Purchase Address']:\n",
    "    list_city.append(i.split(\",\")[1])\n",
    "dftemp['City'] = list_city\n",
    "dftemp.head()"
   ]
  },
  {
   "cell_type": "code",
   "execution_count": 89,
   "metadata": {},
   "outputs": [],
   "source": [
    "df_city=df_filtered.groupby([\"City\"])['sales'].sum().sort_values(ascending=False)\n",
    "df_city=df_city.to_frame()"
   ]
  },
  {
   "cell_type": "code",
   "execution_count": 90,
   "metadata": {},
   "outputs": [
    {
     "data": {
      "text/html": [
       "<div>\n",
       "<style scoped>\n",
       "    .dataframe tbody tr th:only-of-type {\n",
       "        vertical-align: middle;\n",
       "    }\n",
       "\n",
       "    .dataframe tbody tr th {\n",
       "        vertical-align: top;\n",
       "    }\n",
       "\n",
       "    .dataframe thead th {\n",
       "        text-align: right;\n",
       "    }\n",
       "</style>\n",
       "<table border=\"1\" class=\"dataframe\">\n",
       "  <thead>\n",
       "    <tr style=\"text-align: right;\">\n",
       "      <th></th>\n",
       "      <th>sales</th>\n",
       "    </tr>\n",
       "    <tr>\n",
       "      <th>City</th>\n",
       "      <th></th>\n",
       "    </tr>\n",
       "  </thead>\n",
       "  <tbody>\n",
       "    <tr>\n",
       "      <td>San Francisco</td>\n",
       "      <td>8.262204e+06</td>\n",
       "    </tr>\n",
       "    <tr>\n",
       "      <td>Los Angeles</td>\n",
       "      <td>5.452571e+06</td>\n",
       "    </tr>\n",
       "    <tr>\n",
       "      <td>New York City</td>\n",
       "      <td>4.664317e+06</td>\n",
       "    </tr>\n",
       "    <tr>\n",
       "      <td>Boston</td>\n",
       "      <td>3.661642e+06</td>\n",
       "    </tr>\n",
       "    <tr>\n",
       "      <td>Atlanta</td>\n",
       "      <td>2.795499e+06</td>\n",
       "    </tr>\n",
       "    <tr>\n",
       "      <td>Dallas</td>\n",
       "      <td>2.767975e+06</td>\n",
       "    </tr>\n",
       "    <tr>\n",
       "      <td>Seattle</td>\n",
       "      <td>2.747755e+06</td>\n",
       "    </tr>\n",
       "    <tr>\n",
       "      <td>Portland</td>\n",
       "      <td>2.320491e+06</td>\n",
       "    </tr>\n",
       "    <tr>\n",
       "      <td>Austin</td>\n",
       "      <td>1.819582e+06</td>\n",
       "    </tr>\n",
       "  </tbody>\n",
       "</table>\n",
       "</div>"
      ],
      "text/plain": [
       "                       sales\n",
       "City                        \n",
       " San Francisco  8.262204e+06\n",
       " Los Angeles    5.452571e+06\n",
       " New York City  4.664317e+06\n",
       " Boston         3.661642e+06\n",
       " Atlanta        2.795499e+06\n",
       " Dallas         2.767975e+06\n",
       " Seattle        2.747755e+06\n",
       " Portland       2.320491e+06\n",
       " Austin         1.819582e+06"
      ]
     },
     "execution_count": 90,
     "metadata": {},
     "output_type": "execute_result"
    }
   ],
   "source": [
    "df_city"
   ]
  },
  {
   "cell_type": "code",
   "execution_count": 91,
   "metadata": {},
   "outputs": [
    {
     "data": {
      "text/plain": [
       "9"
      ]
     },
     "execution_count": 91,
     "metadata": {},
     "output_type": "execute_result"
    }
   ],
   "source": [
    "dftemp[\"City\"].nunique()"
   ]
  },
  {
   "cell_type": "code",
   "execution_count": 92,
   "metadata": {},
   "outputs": [],
   "source": [
    "city=[\"San Francisco\",\"Los Angeles\",\"New York City\",\"Boston\",\"Atlanta\",\"Dallas\",\"Seattle\",\"Portland\",\"Austin\"]"
   ]
  },
  {
   "cell_type": "code",
   "execution_count": 93,
   "metadata": {},
   "outputs": [],
   "source": [
    "df_city[\"city\"]=city"
   ]
  },
  {
   "cell_type": "code",
   "execution_count": 94,
   "metadata": {},
   "outputs": [
    {
     "data": {
      "text/html": [
       "<div>\n",
       "<style scoped>\n",
       "    .dataframe tbody tr th:only-of-type {\n",
       "        vertical-align: middle;\n",
       "    }\n",
       "\n",
       "    .dataframe tbody tr th {\n",
       "        vertical-align: top;\n",
       "    }\n",
       "\n",
       "    .dataframe thead th {\n",
       "        text-align: right;\n",
       "    }\n",
       "</style>\n",
       "<table border=\"1\" class=\"dataframe\">\n",
       "  <thead>\n",
       "    <tr style=\"text-align: right;\">\n",
       "      <th></th>\n",
       "      <th>sales</th>\n",
       "      <th>city</th>\n",
       "    </tr>\n",
       "    <tr>\n",
       "      <th>City</th>\n",
       "      <th></th>\n",
       "      <th></th>\n",
       "    </tr>\n",
       "  </thead>\n",
       "  <tbody>\n",
       "    <tr>\n",
       "      <td>San Francisco</td>\n",
       "      <td>8.262204e+06</td>\n",
       "      <td>San Francisco</td>\n",
       "    </tr>\n",
       "    <tr>\n",
       "      <td>Los Angeles</td>\n",
       "      <td>5.452571e+06</td>\n",
       "      <td>Los Angeles</td>\n",
       "    </tr>\n",
       "    <tr>\n",
       "      <td>New York City</td>\n",
       "      <td>4.664317e+06</td>\n",
       "      <td>New York City</td>\n",
       "    </tr>\n",
       "    <tr>\n",
       "      <td>Boston</td>\n",
       "      <td>3.661642e+06</td>\n",
       "      <td>Boston</td>\n",
       "    </tr>\n",
       "    <tr>\n",
       "      <td>Atlanta</td>\n",
       "      <td>2.795499e+06</td>\n",
       "      <td>Atlanta</td>\n",
       "    </tr>\n",
       "    <tr>\n",
       "      <td>Dallas</td>\n",
       "      <td>2.767975e+06</td>\n",
       "      <td>Dallas</td>\n",
       "    </tr>\n",
       "    <tr>\n",
       "      <td>Seattle</td>\n",
       "      <td>2.747755e+06</td>\n",
       "      <td>Seattle</td>\n",
       "    </tr>\n",
       "    <tr>\n",
       "      <td>Portland</td>\n",
       "      <td>2.320491e+06</td>\n",
       "      <td>Portland</td>\n",
       "    </tr>\n",
       "    <tr>\n",
       "      <td>Austin</td>\n",
       "      <td>1.819582e+06</td>\n",
       "      <td>Austin</td>\n",
       "    </tr>\n",
       "  </tbody>\n",
       "</table>\n",
       "</div>"
      ],
      "text/plain": [
       "                       sales           city\n",
       "City                                       \n",
       " San Francisco  8.262204e+06  San Francisco\n",
       " Los Angeles    5.452571e+06    Los Angeles\n",
       " New York City  4.664317e+06  New York City\n",
       " Boston         3.661642e+06         Boston\n",
       " Atlanta        2.795499e+06        Atlanta\n",
       " Dallas         2.767975e+06         Dallas\n",
       " Seattle        2.747755e+06        Seattle\n",
       " Portland       2.320491e+06       Portland\n",
       " Austin         1.819582e+06         Austin"
      ]
     },
     "execution_count": 94,
     "metadata": {},
     "output_type": "execute_result"
    }
   ],
   "source": [
    "df_city"
   ]
  },
  {
   "cell_type": "code",
   "execution_count": 95,
   "metadata": {},
   "outputs": [
    {
     "data": {
      "image/png": "[encoded data removed]",
      "text/plain": [
       "<Figure size 842.4x595.44 with 1 Axes>"
      ]
     },
     "metadata": {
      "needs_background": "light"
     },
     "output_type": "display_data"
    }
   ],
   "source": [
    "from matplotlib import pyplot\n",
    "a4_dims = (11.7, 8.27)\n",
    "fig, ax = pyplot.subplots(figsize=a4_dims)\n",
    "sns.barplot(x = \"sales\",\n",
    "            y = \"city\",\n",
    "            data = df_city)\n",
    "plt.title(\"City wise Sales\")\n",
    "plt.show()"
   ]
  },
  {
   "cell_type": "markdown",
   "metadata": {},
   "source": [
    "San Francisco has highest sales $8262204  ( eight million two hundred sixty two thousand two hundred four dollars)\n"
   ]
  },
  {
   "cell_type": "markdown",
   "metadata": {},
   "source": [
    "# What products sold the most ?"
   ]
  },
  {
   "cell_type": "code",
   "execution_count": 96,
   "metadata": {},
   "outputs": [
    {
     "data": {
      "text/html": [
       "<div>\n",
       "<style scoped>\n",
       "    .dataframe tbody tr th:only-of-type {\n",
       "        vertical-align: middle;\n",
       "    }\n",
       "\n",
       "    .dataframe tbody tr th {\n",
       "        vertical-align: top;\n",
       "    }\n",
       "\n",
       "    .dataframe thead th {\n",
       "        text-align: right;\n",
       "    }\n",
       "</style>\n",
       "<table border=\"1\" class=\"dataframe\">\n",
       "  <thead>\n",
       "    <tr style=\"text-align: right;\">\n",
       "      <th></th>\n",
       "      <th>Order ID</th>\n",
       "      <th>Product</th>\n",
       "      <th>Quantity Ordered</th>\n",
       "      <th>Price Each</th>\n",
       "      <th>Order Date</th>\n",
       "      <th>Purchase Address</th>\n",
       "      <th>month</th>\n",
       "      <th>sales</th>\n",
       "      <th>City</th>\n",
       "    </tr>\n",
       "  </thead>\n",
       "  <tbody>\n",
       "    <tr>\n",
       "      <td>0</td>\n",
       "      <td>141234</td>\n",
       "      <td>iPhone</td>\n",
       "      <td>1.0</td>\n",
       "      <td>700.00</td>\n",
       "      <td>01/22/19 21:25</td>\n",
       "      <td>944 Walnut St, Boston, MA 02215</td>\n",
       "      <td>Jan</td>\n",
       "      <td>700.00</td>\n",
       "      <td>Boston</td>\n",
       "    </tr>\n",
       "    <tr>\n",
       "      <td>1</td>\n",
       "      <td>141235</td>\n",
       "      <td>Lightning Charging Cable</td>\n",
       "      <td>1.0</td>\n",
       "      <td>14.95</td>\n",
       "      <td>01/28/19 14:15</td>\n",
       "      <td>185 Maple St, Portland, OR 97035</td>\n",
       "      <td>Jan</td>\n",
       "      <td>14.95</td>\n",
       "      <td>Portland</td>\n",
       "    </tr>\n",
       "    <tr>\n",
       "      <td>2</td>\n",
       "      <td>141236</td>\n",
       "      <td>Wired Headphones</td>\n",
       "      <td>2.0</td>\n",
       "      <td>11.99</td>\n",
       "      <td>01/17/19 13:33</td>\n",
       "      <td>538 Adams St, San Francisco, CA 94016</td>\n",
       "      <td>Jan</td>\n",
       "      <td>23.98</td>\n",
       "      <td>San Francisco</td>\n",
       "    </tr>\n",
       "    <tr>\n",
       "      <td>3</td>\n",
       "      <td>141237</td>\n",
       "      <td>27in FHD Monitor</td>\n",
       "      <td>1.0</td>\n",
       "      <td>149.99</td>\n",
       "      <td>01/05/19 20:33</td>\n",
       "      <td>738 10th St, Los Angeles, CA 90001</td>\n",
       "      <td>Jan</td>\n",
       "      <td>149.99</td>\n",
       "      <td>Los Angeles</td>\n",
       "    </tr>\n",
       "    <tr>\n",
       "      <td>4</td>\n",
       "      <td>141238</td>\n",
       "      <td>Wired Headphones</td>\n",
       "      <td>1.0</td>\n",
       "      <td>11.99</td>\n",
       "      <td>01/25/19 11:59</td>\n",
       "      <td>387 10th St, Austin, TX 73301</td>\n",
       "      <td>Jan</td>\n",
       "      <td>11.99</td>\n",
       "      <td>Austin</td>\n",
       "    </tr>\n",
       "  </tbody>\n",
       "</table>\n",
       "</div>"
      ],
      "text/plain": [
       "  Order ID                   Product  Quantity Ordered  Price Each  \\\n",
       "0   141234                    iPhone               1.0      700.00   \n",
       "1   141235  Lightning Charging Cable               1.0       14.95   \n",
       "2   141236          Wired Headphones               2.0       11.99   \n",
       "3   141237          27in FHD Monitor               1.0      149.99   \n",
       "4   141238          Wired Headphones               1.0       11.99   \n",
       "\n",
       "       Order Date                       Purchase Address month   sales  \\\n",
       "0  01/22/19 21:25        944 Walnut St, Boston, MA 02215   Jan  700.00   \n",
       "1  01/28/19 14:15       185 Maple St, Portland, OR 97035   Jan   14.95   \n",
       "2  01/17/19 13:33  538 Adams St, San Francisco, CA 94016   Jan   23.98   \n",
       "3  01/05/19 20:33     738 10th St, Los Angeles, CA 90001   Jan  149.99   \n",
       "4  01/25/19 11:59          387 10th St, Austin, TX 73301   Jan   11.99   \n",
       "\n",
       "             City  \n",
       "0          Boston  \n",
       "1        Portland  \n",
       "2   San Francisco  \n",
       "3     Los Angeles  \n",
       "4          Austin  "
      ]
     },
     "execution_count": 96,
     "metadata": {},
     "output_type": "execute_result"
    }
   ],
   "source": [
    "df_filtered.head()"
   ]
  },
  {
   "cell_type": "code",
   "execution_count": 97,
   "metadata": {},
   "outputs": [
    {
     "name": "stdout",
     "output_type": "stream",
     "text": [
      "['iPhone' 'Lightning Charging Cable' 'Wired Headphones' '27in FHD Monitor'\n",
      " 'AAA Batteries (4-pack)' '27in 4K Gaming Monitor' 'USB-C Charging Cable'\n",
      " 'Bose SoundSport Headphones' 'Apple Airpods Headphones'\n",
      " 'Macbook Pro Laptop' 'Flatscreen TV' 'Vareebadd Phone'\n",
      " 'AA Batteries (4-pack)' 'Google Phone' '20in Monitor'\n",
      " '34in Ultrawide Monitor' 'ThinkPad Laptop' 'LG Dryer'\n",
      " 'LG Washing Machine']\n",
      "19\n"
     ]
    }
   ],
   "source": [
    "print(df_filtered[\"Product\"].unique())\n",
    "print(df_filtered[\"Product\"].nunique())"
   ]
  },
  {
   "cell_type": "code",
   "execution_count": 98,
   "metadata": {},
   "outputs": [],
   "source": [
    "df_p=df_filtered.groupby(['Product'])['Quantity Ordered'].sum().sort_values(ascending=False).head()\n",
    "df_p=df_p.to_frame()"
   ]
  },
  {
   "cell_type": "code",
   "execution_count": 99,
   "metadata": {},
   "outputs": [
    {
     "data": {
      "text/html": [
       "<div>\n",
       "<style scoped>\n",
       "    .dataframe tbody tr th:only-of-type {\n",
       "        vertical-align: middle;\n",
       "    }\n",
       "\n",
       "    .dataframe tbody tr th {\n",
       "        vertical-align: top;\n",
       "    }\n",
       "\n",
       "    .dataframe thead th {\n",
       "        text-align: right;\n",
       "    }\n",
       "</style>\n",
       "<table border=\"1\" class=\"dataframe\">\n",
       "  <thead>\n",
       "    <tr style=\"text-align: right;\">\n",
       "      <th></th>\n",
       "      <th>Quantity Ordered</th>\n",
       "    </tr>\n",
       "    <tr>\n",
       "      <th>Product</th>\n",
       "      <th></th>\n",
       "    </tr>\n",
       "  </thead>\n",
       "  <tbody>\n",
       "    <tr>\n",
       "      <td>AAA Batteries (4-pack)</td>\n",
       "      <td>31017.0</td>\n",
       "    </tr>\n",
       "    <tr>\n",
       "      <td>AA Batteries (4-pack)</td>\n",
       "      <td>27635.0</td>\n",
       "    </tr>\n",
       "    <tr>\n",
       "      <td>USB-C Charging Cable</td>\n",
       "      <td>23975.0</td>\n",
       "    </tr>\n",
       "    <tr>\n",
       "      <td>Lightning Charging Cable</td>\n",
       "      <td>23217.0</td>\n",
       "    </tr>\n",
       "    <tr>\n",
       "      <td>Wired Headphones</td>\n",
       "      <td>20557.0</td>\n",
       "    </tr>\n",
       "  </tbody>\n",
       "</table>\n",
       "</div>"
      ],
      "text/plain": [
       "                          Quantity Ordered\n",
       "Product                                   \n",
       "AAA Batteries (4-pack)             31017.0\n",
       "AA Batteries (4-pack)              27635.0\n",
       "USB-C Charging Cable               23975.0\n",
       "Lightning Charging Cable           23217.0\n",
       "Wired Headphones                   20557.0"
      ]
     },
     "execution_count": 99,
     "metadata": {},
     "output_type": "execute_result"
    }
   ],
   "source": [
    "df_p"
   ]
  },
  {
   "cell_type": "code",
   "execution_count": 100,
   "metadata": {},
   "outputs": [],
   "source": [
    "product=[\"AAA Batteries (4-pack)\",\"AA Batteries (4-pack)\",\"USB-C Charging Cable\",\"Lightning Charging Cable\",\"Wired Headphones\"]"
   ]
  },
  {
   "cell_type": "code",
   "execution_count": 101,
   "metadata": {},
   "outputs": [],
   "source": [
    "df_p[\"Product\"]=product"
   ]
  },
  {
   "cell_type": "code",
   "execution_count": 102,
   "metadata": {},
   "outputs": [
    {
     "data": {
      "image/png": "[encoded data removed]",
      "text/plain": [
       "<Figure size 842.4x595.44 with 1 Axes>"
      ]
     },
     "metadata": {
      "needs_background": "light"
     },
     "output_type": "display_data"
    }
   ],
   "source": [
    "from matplotlib import pyplot\n",
    "a4_dims = (11.7, 8.27)\n",
    "fig, ax = pyplot.subplots(figsize=a4_dims)\n",
    "sns.barplot(x = \"Quantity Ordered\",\n",
    "            y = \"Product\",\n",
    "            data = df_p)\n",
    "plt.title(\"Prouct and Quantity Ordered\")\n",
    "plt.show()"
   ]
  },
  {
   "cell_type": "markdown",
   "metadata": {},
   "source": [
    "31017.0  quantity of AAA Batteries (4-pack)  is sold in an year . It is sold maximum because it is the cheapest product.\n"
   ]
  },
  {
   "cell_type": "markdown",
   "metadata": {},
   "source": [
    "# 4.Recommend the most appropriate time to display advertising to maximize the likelihood of customer buying the product's?"
   ]
  },
  {
   "cell_type": "code",
   "execution_count": 103,
   "metadata": {},
   "outputs": [
    {
     "name": "stderr",
     "output_type": "stream",
     "text": [
      "C:\\Users\\juhi\\Anaconda3\\lib\\site-packages\\ipykernel_launcher.py:5: SettingWithCopyWarning: \n",
      "A value is trying to be set on a copy of a slice from a DataFrame.\n",
      "Try using .loc[row_indexer,col_indexer] = value instead\n",
      "\n",
      "See the caveats in the documentation: http://pandas.pydata.org/pandas-docs/stable/user_guide/indexing.html#returning-a-view-versus-a-copy\n",
      "  \"\"\"\n"
     ]
    },
    {
     "data": {
      "text/html": [
       "<div>\n",
       "<style scoped>\n",
       "    .dataframe tbody tr th:only-of-type {\n",
       "        vertical-align: middle;\n",
       "    }\n",
       "\n",
       "    .dataframe tbody tr th {\n",
       "        vertical-align: top;\n",
       "    }\n",
       "\n",
       "    .dataframe thead th {\n",
       "        text-align: right;\n",
       "    }\n",
       "</style>\n",
       "<table border=\"1\" class=\"dataframe\">\n",
       "  <thead>\n",
       "    <tr style=\"text-align: right;\">\n",
       "      <th></th>\n",
       "      <th>Order ID</th>\n",
       "      <th>Product</th>\n",
       "      <th>Quantity Ordered</th>\n",
       "      <th>Price Each</th>\n",
       "      <th>Order Date</th>\n",
       "      <th>Purchase Address</th>\n",
       "      <th>month</th>\n",
       "      <th>sales</th>\n",
       "      <th>City</th>\n",
       "      <th>Time</th>\n",
       "    </tr>\n",
       "  </thead>\n",
       "  <tbody>\n",
       "    <tr>\n",
       "      <td>0</td>\n",
       "      <td>141234</td>\n",
       "      <td>iPhone</td>\n",
       "      <td>1.0</td>\n",
       "      <td>700.00</td>\n",
       "      <td>01/22/19 21:25</td>\n",
       "      <td>944 Walnut St, Boston, MA 02215</td>\n",
       "      <td>Jan</td>\n",
       "      <td>700.00</td>\n",
       "      <td>Boston</td>\n",
       "      <td>21:25</td>\n",
       "    </tr>\n",
       "    <tr>\n",
       "      <td>1</td>\n",
       "      <td>141235</td>\n",
       "      <td>Lightning Charging Cable</td>\n",
       "      <td>1.0</td>\n",
       "      <td>14.95</td>\n",
       "      <td>01/28/19 14:15</td>\n",
       "      <td>185 Maple St, Portland, OR 97035</td>\n",
       "      <td>Jan</td>\n",
       "      <td>14.95</td>\n",
       "      <td>Portland</td>\n",
       "      <td>14:15</td>\n",
       "    </tr>\n",
       "    <tr>\n",
       "      <td>2</td>\n",
       "      <td>141236</td>\n",
       "      <td>Wired Headphones</td>\n",
       "      <td>2.0</td>\n",
       "      <td>11.99</td>\n",
       "      <td>01/17/19 13:33</td>\n",
       "      <td>538 Adams St, San Francisco, CA 94016</td>\n",
       "      <td>Jan</td>\n",
       "      <td>23.98</td>\n",
       "      <td>San Francisco</td>\n",
       "      <td>13:33</td>\n",
       "    </tr>\n",
       "    <tr>\n",
       "      <td>3</td>\n",
       "      <td>141237</td>\n",
       "      <td>27in FHD Monitor</td>\n",
       "      <td>1.0</td>\n",
       "      <td>149.99</td>\n",
       "      <td>01/05/19 20:33</td>\n",
       "      <td>738 10th St, Los Angeles, CA 90001</td>\n",
       "      <td>Jan</td>\n",
       "      <td>149.99</td>\n",
       "      <td>Los Angeles</td>\n",
       "      <td>20:33</td>\n",
       "    </tr>\n",
       "    <tr>\n",
       "      <td>4</td>\n",
       "      <td>141238</td>\n",
       "      <td>Wired Headphones</td>\n",
       "      <td>1.0</td>\n",
       "      <td>11.99</td>\n",
       "      <td>01/25/19 11:59</td>\n",
       "      <td>387 10th St, Austin, TX 73301</td>\n",
       "      <td>Jan</td>\n",
       "      <td>11.99</td>\n",
       "      <td>Austin</td>\n",
       "      <td>11:59</td>\n",
       "    </tr>\n",
       "  </tbody>\n",
       "</table>\n",
       "</div>"
      ],
      "text/plain": [
       "  Order ID                   Product  Quantity Ordered  Price Each  \\\n",
       "0   141234                    iPhone               1.0      700.00   \n",
       "1   141235  Lightning Charging Cable               1.0       14.95   \n",
       "2   141236          Wired Headphones               2.0       11.99   \n",
       "3   141237          27in FHD Monitor               1.0      149.99   \n",
       "4   141238          Wired Headphones               1.0       11.99   \n",
       "\n",
       "       Order Date                       Purchase Address month   sales  \\\n",
       "0  01/22/19 21:25        944 Walnut St, Boston, MA 02215   Jan  700.00   \n",
       "1  01/28/19 14:15       185 Maple St, Portland, OR 97035   Jan   14.95   \n",
       "2  01/17/19 13:33  538 Adams St, San Francisco, CA 94016   Jan   23.98   \n",
       "3  01/05/19 20:33     738 10th St, Los Angeles, CA 90001   Jan  149.99   \n",
       "4  01/25/19 11:59          387 10th St, Austin, TX 73301   Jan   11.99   \n",
       "\n",
       "             City   Time  \n",
       "0          Boston  21:25  \n",
       "1        Portland  14:15  \n",
       "2   San Francisco  13:33  \n",
       "3     Los Angeles  20:33  \n",
       "4          Austin  11:59  "
      ]
     },
     "execution_count": 103,
     "metadata": {},
     "output_type": "execute_result"
    }
   ],
   "source": [
    "dftime = df_filtered\n",
    "list_time = []\n",
    "for i in dftime['Order Date']:\n",
    "    list_time.append(i.split(\" \")[1])\n",
    "dftime['Time'] = list_time\n",
    "dftime.head()"
   ]
  },
  {
   "cell_type": "code",
   "execution_count": 104,
   "metadata": {},
   "outputs": [
    {
     "data": {
      "text/plain": [
       "1440"
      ]
     },
     "execution_count": 104,
     "metadata": {},
     "output_type": "execute_result"
    }
   ],
   "source": [
    "dftime[\"Time\"].nunique()"
   ]
  },
  {
   "cell_type": "code",
   "execution_count": 105,
   "metadata": {},
   "outputs": [],
   "source": [
    "df_t=df_filtered.groupby(['Time'])['sales'].sum().sort_values(ascending=False).head()\n",
    "df_t=df_t.to_frame()"
   ]
  },
  {
   "cell_type": "code",
   "execution_count": 106,
   "metadata": {},
   "outputs": [
    {
     "data": {
      "text/html": [
       "<div>\n",
       "<style scoped>\n",
       "    .dataframe tbody tr th:only-of-type {\n",
       "        vertical-align: middle;\n",
       "    }\n",
       "\n",
       "    .dataframe tbody tr th {\n",
       "        vertical-align: top;\n",
       "    }\n",
       "\n",
       "    .dataframe thead th {\n",
       "        text-align: right;\n",
       "    }\n",
       "</style>\n",
       "<table border=\"1\" class=\"dataframe\">\n",
       "  <thead>\n",
       "    <tr style=\"text-align: right;\">\n",
       "      <th></th>\n",
       "      <th>sales</th>\n",
       "    </tr>\n",
       "    <tr>\n",
       "      <th>Time</th>\n",
       "      <th></th>\n",
       "    </tr>\n",
       "  </thead>\n",
       "  <tbody>\n",
       "    <tr>\n",
       "      <td>19:01</td>\n",
       "      <td>54503.14</td>\n",
       "    </tr>\n",
       "    <tr>\n",
       "      <td>12:21</td>\n",
       "      <td>54181.96</td>\n",
       "    </tr>\n",
       "    <tr>\n",
       "      <td>19:16</td>\n",
       "      <td>54156.39</td>\n",
       "    </tr>\n",
       "    <tr>\n",
       "      <td>20:13</td>\n",
       "      <td>53149.51</td>\n",
       "    </tr>\n",
       "    <tr>\n",
       "      <td>19:20</td>\n",
       "      <td>52903.41</td>\n",
       "    </tr>\n",
       "  </tbody>\n",
       "</table>\n",
       "</div>"
      ],
      "text/plain": [
       "          sales\n",
       "Time           \n",
       "19:01  54503.14\n",
       "12:21  54181.96\n",
       "19:16  54156.39\n",
       "20:13  53149.51\n",
       "19:20  52903.41"
      ]
     },
     "execution_count": 106,
     "metadata": {},
     "output_type": "execute_result"
    }
   ],
   "source": [
    "df_t"
   ]
  },
  {
   "cell_type": "code",
   "execution_count": 107,
   "metadata": {},
   "outputs": [
    {
     "data": {
      "text/plain": [
       "Index(['sales'], dtype='object')"
      ]
     },
     "execution_count": 107,
     "metadata": {},
     "output_type": "execute_result"
    }
   ],
   "source": [
    "df_t.columns"
   ]
  },
  {
   "cell_type": "markdown",
   "metadata": {},
   "source": [
    "Total sales is maximum at these time stamps \n",
    "\n",
    "19:01\n",
    "\n",
    "12:21\n",
    "\n",
    "19:16\n",
    "\n",
    "20:13\n",
    "\n",
    "19:20"
   ]
  },
  {
   "cell_type": "code",
   "execution_count": null,
   "metadata": {},
   "outputs": [],
   "source": []
  },
  {
   "cell_type": "code",
   "execution_count": null,
   "metadata": {},
   "outputs": [],
   "source": []
  },
  {
   "cell_type": "code",
   "execution_count": null,
   "metadata": {},
   "outputs": [],
   "source": []
  }
 ],
 "metadata": {
  "kernelspec": {
   "display_name": "Python 3",
   "language": "python",
   "name": "python3"
  },
  "language_info": {
   "codemirror_mode": {
    "name": "ipython",
    "version": 3
   },
   "file_extension": ".py",
   "mimetype": "text/x-python",
   "name": "python",
   "nbconvert_exporter": "python",
   "pygments_lexer": "ipython3",
   "version": "3.7.4"
  }
 },
 "nbformat": 4,
 "nbformat_minor": 2
}
