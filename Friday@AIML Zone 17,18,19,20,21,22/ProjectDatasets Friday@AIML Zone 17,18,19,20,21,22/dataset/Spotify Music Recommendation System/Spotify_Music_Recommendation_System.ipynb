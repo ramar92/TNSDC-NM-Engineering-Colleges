{
  "nbformat": 4,
  "nbformat_minor": 0,
  "metadata": {
    "colab": {
      "provenance": []
    },
    "kernelspec": {
      "name": "python3",
      "display_name": "Python 3"
    },
    "language_info": {
      "name": "python"
    }
  },
  "cells": [
    {
      "cell_type": "markdown",
      "source": [
        "**Building Music Recommendation System using Spotify Dataset**\n",
        "\n",
        "You are tasked to perform Spotify Music Recommendation System.\n",
        "\n",
        "1. Use the Spotify songs dataset available on Kaggle.\n",
        "\n",
        "2. The recommender system will group relevant data points using K-Means clustering.\n",
        "\n",
        "3. After developing the recommender system, you may deploy it as a standard Python application.\n",
        "\n",
        "4. Users can enter their favorite songs on Spotify, and your model will immediately display most of their preferred songs as recommendations on the user's screen."
      ],
      "metadata": {
        "id": "UBqeH5v7_zUH"
      }
    },
    {
      "cell_type": "markdown",
      "source": [
        "1. Data Understanding by Visualization and EDA\n",
        "   \n",
        "   1.1 Music Over Time\n",
        "   1.2 Characteristics of Different Genres\n",
        "\n",
        "2. Clustering Genres with K-Means\n",
        "3. Clustering Songs with K-Means\n",
        "4. Build Recommender System **\n",
        "  1. Based on the analysis and visualizations, it’s clear that similar genres tend to have data points that are located close to each other while similar types of songs are also clustered together.\n",
        "\n",
        "  2. This observation makes perfect sense. Similar genres will sound similar and will come from similar time periods while the same can be said for songs within those genres. We can use this idea to build a recommendation system by taking the data points of the songs a user has listened to and recommending songs corresponding to nearby data points.\n",
        "  3. Spotipy is a Python client for the Spotify Web API that makes it easy for developers to fetch data and query Spotify’s catalog for songs. You have to install using pip install spotipy\n",
        "  4. After installing Spotipy, you will need to create an app on the Spotify Developer’s page and save your Client ID and secret key.\n",
        "\n",
        "!pip install spotipy\n",
        "\n",
        "Streamlit **\n",
        "Global - Gradio https://www.gradio.app"
      ],
      "metadata": {
        "id": "wpZ6XGNgAb8q"
      }
    },
    {
      "cell_type": "code",
      "execution_count": null,
      "metadata": {
        "id": "J4S4VbVY_c7d"
      },
      "outputs": [],
      "source": []
    }
  ]
}