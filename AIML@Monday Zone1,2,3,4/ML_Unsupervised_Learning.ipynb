{
  "nbformat": 4,
  "nbformat_minor": 0,
  "metadata": {
    "colab": {
      "provenance": []
    },
    "kernelspec": {
      "name": "python3",
      "display_name": "Python 3"
    },
    "language_info": {
      "name": "python"
    }
  },
  "cells": [
    {
      "cell_type": "code",
      "execution_count": null,
      "metadata": {
        "id": "3Fc-M3oNmHS0"
      },
      "outputs": [],
      "source": [
        "Classification :\n",
        "based on labled data (categorical data), Based on the categorical -class's it will predict the class.\n",
        "\n",
        "Clustersing:\n",
        "\n",
        "based on unlabled data, it can grouping data based on simlarity"
      ]
    },
    {
      "cell_type": "code",
      "source": [
        "Unsupervised Learning alg. :\n",
        "1. clustring\n",
        "2. Association\n",
        "3. Dimensionality reduction"
      ],
      "metadata": {
        "id": "fOXxlMmdnX_F"
      },
      "execution_count": null,
      "outputs": []
    },
    {
      "cell_type": "code",
      "source": [
        "Clustring:\n",
        " - process of the grouping unlabled data\n",
        " - based on the similarity\n",
        " - identify the pattern of the data\n",
        " - find realtionship"
      ],
      "metadata": {
        "id": "eZ5eLMuToCvu"
      },
      "execution_count": null,
      "outputs": []
    },
    {
      "cell_type": "code",
      "source": [
        "Clustring alg.:\n",
        "1. K-Mean  - grouping data as per K cluster\n",
        "2. Hierachical - structred cluster\n",
        "3. DBSCAN (Density based clustring) - Density\n",
        "4. Mean shift -  Mode seeking\n",
        "5. Spectral - Graph theory"
      ],
      "metadata": {
        "id": "ZD7tAhAloo1P"
      },
      "execution_count": null,
      "outputs": []
    },
    {
      "cell_type": "code",
      "source": [
        "Association Rule:\n",
        "1. Apriori - rule induction\n",
        "2. FP - Grwoth\n",
        "3. Eclat\n",
        "4. Effcient tree based\n",
        "\n",
        "Dimensionality Reduction:\n",
        "1. PCA *\n",
        "2. LDA *\n",
        "3. NMF\n",
        "4. LLE\n",
        "\n"
      ],
      "metadata": {
        "id": "EJ-eHQGgprir"
      },
      "execution_count": null,
      "outputs": []
    },
    {
      "cell_type": "code",
      "source": [],
      "metadata": {
        "id": "ZE_hUy_XrKjo"
      },
      "execution_count": null,
      "outputs": []
    }
  ]
}