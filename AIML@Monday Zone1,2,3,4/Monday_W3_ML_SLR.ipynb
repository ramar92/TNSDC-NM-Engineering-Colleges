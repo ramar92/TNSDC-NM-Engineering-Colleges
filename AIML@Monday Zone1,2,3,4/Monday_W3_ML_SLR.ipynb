{
  "nbformat": 4,
  "nbformat_minor": 0,
  "metadata": {
    "colab": {
      "provenance": []
    },
    "kernelspec": {
      "name": "python3",
      "display_name": "Python 3"
    },
    "language_info": {
      "name": "python"
    }
  },
  "cells": [
    {
      "cell_type": "code",
      "execution_count": null,
      "metadata": {
        "id": "pfEGznWarFa6"
      },
      "outputs": [],
      "source": [
        "#load packages\n",
        "\n",
        "#Read the data from local machine\n",
        "import pandas as pd\n",
        "\n",
        "# scientific calculations\n",
        "import numpy as np\n",
        "import math\n",
        "\n",
        "#DV\n",
        "import matplotlib.pyplot as plt\n",
        "import seaborn as sns\n",
        "# responsive visuzlaztion\n",
        "import plotly.express as px"
      ]
    },
    {
      "cell_type": "code",
      "source": [
        "#load my data\n",
        "data = pd.read_csv('/content/swedish_insurance.csv')\n",
        "data.head()"
      ],
      "metadata": {
        "colab": {
          "base_uri": "https://localhost:8080/",
          "height": 206
        },
        "id": "ISB9QzARsioI",
        "outputId": "444d80b4-118e-4bf2-9ff3-e7a7367552db"
      },
      "execution_count": null,
      "outputs": [
        {
          "output_type": "execute_result",
          "data": {
            "text/plain": [
              "     X      Y\n",
              "0  108  392.5\n",
              "1   19   46.2\n",
              "2   13   15.7\n",
              "3  124  422.2\n",
              "4   40  119.4"
            ],
            "text/html": [
              "\n",
              "  <div id=\"df-d7534326-c40a-45d8-9083-783dbf04cda2\" class=\"colab-df-container\">\n",
              "    <div>\n",
              "<style scoped>\n",
              "    .dataframe tbody tr th:only-of-type {\n",
              "        vertical-align: middle;\n",
              "    }\n",
              "\n",
              "    .dataframe tbody tr th {\n",
              "        vertical-align: top;\n",
              "    }\n",
              "\n",
              "    .dataframe thead th {\n",
              "        text-align: right;\n",
              "    }\n",
              "</style>\n",
              "<table border=\"1\" class=\"dataframe\">\n",
              "  <thead>\n",
              "    <tr style=\"text-align: right;\">\n",
              "      <th></th>\n",
              "      <th>X</th>\n",
              "      <th>Y</th>\n",
              "    </tr>\n",
              "  </thead>\n",
              "  <tbody>\n",
              "    <tr>\n",
              "      <th>0</th>\n",
              "      <td>108</td>\n",
              "      <td>392.5</td>\n",
              "    </tr>\n",
              "    <tr>\n",
              "      <th>1</th>\n",
              "      <td>19</td>\n",
              "      <td>46.2</td>\n",
              "    </tr>\n",
              "    <tr>\n",
              "      <th>2</th>\n",
              "      <td>13</td>\n",
              "      <td>15.7</td>\n",
              "    </tr>\n",
              "    <tr>\n",
              "      <th>3</th>\n",
              "      <td>124</td>\n",
              "      <td>422.2</td>\n",
              "    </tr>\n",
              "    <tr>\n",
              "      <th>4</th>\n",
              "      <td>40</td>\n",
              "      <td>119.4</td>\n",
              "    </tr>\n",
              "  </tbody>\n",
              "</table>\n",
              "</div>\n",
              "    <div class=\"colab-df-buttons\">\n",
              "\n",
              "  <div class=\"colab-df-container\">\n",
              "    <button class=\"colab-df-convert\" onclick=\"convertToInteractive('df-d7534326-c40a-45d8-9083-783dbf04cda2')\"\n",
              "            title=\"Convert this dataframe to an interactive table.\"\n",
              "            style=\"display:none;\">\n",
              "\n",
              "  <svg xmlns=\"http://www.w3.org/2000/svg\" height=\"24px\" viewBox=\"0 -960 960 960\">\n",
              "    <path d=\"M120-120v-720h720v720H120Zm60-500h600v-160H180v160Zm220 220h160v-160H400v160Zm0 220h160v-160H400v160ZM180-400h160v-160H180v160Zm440 0h160v-160H620v160ZM180-180h160v-160H180v160Zm440 0h160v-160H620v160Z\"/>\n",
              "  </svg>\n",
              "    </button>\n",
              "\n",
              "  <style>\n",
              "    .colab-df-container {\n",
              "      display:flex;\n",
              "      gap: 12px;\n",
              "    }\n",
              "\n",
              "    .colab-df-convert {\n",
              "      background-color: #E8F0FE;\n",
              "      border: none;\n",
              "      border-radius: 50%;\n",
              "      cursor: pointer;\n",
              "      display: none;\n",
              "      fill: #1967D2;\n",
              "      height: 32px;\n",
              "      padding: 0 0 0 0;\n",
              "      width: 32px;\n",
              "    }\n",
              "\n",
              "    .colab-df-convert:hover {\n",
              "      background-color: #E2EBFA;\n",
              "      box-shadow: 0px 1px 2px rgba(60, 64, 67, 0.3), 0px 1px 3px 1px rgba(60, 64, 67, 0.15);\n",
              "      fill: #174EA6;\n",
              "    }\n",
              "\n",
              "    .colab-df-buttons div {\n",
              "      margin-bottom: 4px;\n",
              "    }\n",
              "\n",
              "    [theme=dark] .colab-df-convert {\n",
              "      background-color: #3B4455;\n",
              "      fill: #D2E3FC;\n",
              "    }\n",
              "\n",
              "    [theme=dark] .colab-df-convert:hover {\n",
              "      background-color: #434B5C;\n",
              "      box-shadow: 0px 1px 3px 1px rgba(0, 0, 0, 0.15);\n",
              "      filter: drop-shadow(0px 1px 2px rgba(0, 0, 0, 0.3));\n",
              "      fill: #FFFFFF;\n",
              "    }\n",
              "  </style>\n",
              "\n",
              "    <script>\n",
              "      const buttonEl =\n",
              "        document.querySelector('#df-d7534326-c40a-45d8-9083-783dbf04cda2 button.colab-df-convert');\n",
              "      buttonEl.style.display =\n",
              "        google.colab.kernel.accessAllowed ? 'block' : 'none';\n",
              "\n",
              "      async function convertToInteractive(key) {\n",
              "        const element = document.querySelector('#df-d7534326-c40a-45d8-9083-783dbf04cda2');\n",
              "        const dataTable =\n",
              "          await google.colab.kernel.invokeFunction('convertToInteractive',\n",
              "                                                    [key], {});\n",
              "        if (!dataTable) return;\n",
              "\n",
              "        const docLinkHtml = 'Like what you see? Visit the ' +\n",
              "          '<a target=\"_blank\" href=https://colab.research.google.com/notebooks/data_table.ipynb>data table notebook</a>'\n",
              "          + ' to learn more about interactive tables.';\n",
              "        element.innerHTML = '';\n",
              "        dataTable['output_type'] = 'display_data';\n",
              "        await google.colab.output.renderOutput(dataTable, element);\n",
              "        const docLink = document.createElement('div');\n",
              "        docLink.innerHTML = docLinkHtml;\n",
              "        element.appendChild(docLink);\n",
              "      }\n",
              "    </script>\n",
              "  </div>\n",
              "\n",
              "\n",
              "<div id=\"df-5d33bcc4-8425-4331-b0b0-e5641a96ded3\">\n",
              "  <button class=\"colab-df-quickchart\" onclick=\"quickchart('df-5d33bcc4-8425-4331-b0b0-e5641a96ded3')\"\n",
              "            title=\"Suggest charts\"\n",
              "            style=\"display:none;\">\n",
              "\n",
              "<svg xmlns=\"http://www.w3.org/2000/svg\" height=\"24px\"viewBox=\"0 0 24 24\"\n",
              "     width=\"24px\">\n",
              "    <g>\n",
              "        <path d=\"M19 3H5c-1.1 0-2 .9-2 2v14c0 1.1.9 2 2 2h14c1.1 0 2-.9 2-2V5c0-1.1-.9-2-2-2zM9 17H7v-7h2v7zm4 0h-2V7h2v10zm4 0h-2v-4h2v4z\"/>\n",
              "    </g>\n",
              "</svg>\n",
              "  </button>\n",
              "\n",
              "<style>\n",
              "  .colab-df-quickchart {\n",
              "      --bg-color: #E8F0FE;\n",
              "      --fill-color: #1967D2;\n",
              "      --hover-bg-color: #E2EBFA;\n",
              "      --hover-fill-color: #174EA6;\n",
              "      --disabled-fill-color: #AAA;\n",
              "      --disabled-bg-color: #DDD;\n",
              "  }\n",
              "\n",
              "  [theme=dark] .colab-df-quickchart {\n",
              "      --bg-color: #3B4455;\n",
              "      --fill-color: #D2E3FC;\n",
              "      --hover-bg-color: #434B5C;\n",
              "      --hover-fill-color: #FFFFFF;\n",
              "      --disabled-bg-color: #3B4455;\n",
              "      --disabled-fill-color: #666;\n",
              "  }\n",
              "\n",
              "  .colab-df-quickchart {\n",
              "    background-color: var(--bg-color);\n",
              "    border: none;\n",
              "    border-radius: 50%;\n",
              "    cursor: pointer;\n",
              "    display: none;\n",
              "    fill: var(--fill-color);\n",
              "    height: 32px;\n",
              "    padding: 0;\n",
              "    width: 32px;\n",
              "  }\n",
              "\n",
              "  .colab-df-quickchart:hover {\n",
              "    background-color: var(--hover-bg-color);\n",
              "    box-shadow: 0 1px 2px rgba(60, 64, 67, 0.3), 0 1px 3px 1px rgba(60, 64, 67, 0.15);\n",
              "    fill: var(--button-hover-fill-color);\n",
              "  }\n",
              "\n",
              "  .colab-df-quickchart-complete:disabled,\n",
              "  .colab-df-quickchart-complete:disabled:hover {\n",
              "    background-color: var(--disabled-bg-color);\n",
              "    fill: var(--disabled-fill-color);\n",
              "    box-shadow: none;\n",
              "  }\n",
              "\n",
              "  .colab-df-spinner {\n",
              "    border: 2px solid var(--fill-color);\n",
              "    border-color: transparent;\n",
              "    border-bottom-color: var(--fill-color);\n",
              "    animation:\n",
              "      spin 1s steps(1) infinite;\n",
              "  }\n",
              "\n",
              "  @keyframes spin {\n",
              "    0% {\n",
              "      border-color: transparent;\n",
              "      border-bottom-color: var(--fill-color);\n",
              "      border-left-color: var(--fill-color);\n",
              "    }\n",
              "    20% {\n",
              "      border-color: transparent;\n",
              "      border-left-color: var(--fill-color);\n",
              "      border-top-color: var(--fill-color);\n",
              "    }\n",
              "    30% {\n",
              "      border-color: transparent;\n",
              "      border-left-color: var(--fill-color);\n",
              "      border-top-color: var(--fill-color);\n",
              "      border-right-color: var(--fill-color);\n",
              "    }\n",
              "    40% {\n",
              "      border-color: transparent;\n",
              "      border-right-color: var(--fill-color);\n",
              "      border-top-color: var(--fill-color);\n",
              "    }\n",
              "    60% {\n",
              "      border-color: transparent;\n",
              "      border-right-color: var(--fill-color);\n",
              "    }\n",
              "    80% {\n",
              "      border-color: transparent;\n",
              "      border-right-color: var(--fill-color);\n",
              "      border-bottom-color: var(--fill-color);\n",
              "    }\n",
              "    90% {\n",
              "      border-color: transparent;\n",
              "      border-bottom-color: var(--fill-color);\n",
              "    }\n",
              "  }\n",
              "</style>\n",
              "\n",
              "  <script>\n",
              "    async function quickchart(key) {\n",
              "      const quickchartButtonEl =\n",
              "        document.querySelector('#' + key + ' button');\n",
              "      quickchartButtonEl.disabled = true;  // To prevent multiple clicks.\n",
              "      quickchartButtonEl.classList.add('colab-df-spinner');\n",
              "      try {\n",
              "        const charts = await google.colab.kernel.invokeFunction(\n",
              "            'suggestCharts', [key], {});\n",
              "      } catch (error) {\n",
              "        console.error('Error during call to suggestCharts:', error);\n",
              "      }\n",
              "      quickchartButtonEl.classList.remove('colab-df-spinner');\n",
              "      quickchartButtonEl.classList.add('colab-df-quickchart-complete');\n",
              "    }\n",
              "    (() => {\n",
              "      let quickchartButtonEl =\n",
              "        document.querySelector('#df-5d33bcc4-8425-4331-b0b0-e5641a96ded3 button');\n",
              "      quickchartButtonEl.style.display =\n",
              "        google.colab.kernel.accessAllowed ? 'block' : 'none';\n",
              "    })();\n",
              "  </script>\n",
              "</div>\n",
              "\n",
              "    </div>\n",
              "  </div>\n"
            ],
            "application/vnd.google.colaboratory.intrinsic+json": {
              "type": "dataframe",
              "variable_name": "data",
              "summary": "{\n  \"name\": \"data\",\n  \"rows\": 63,\n  \"fields\": [\n    {\n      \"column\": \"X\",\n      \"properties\": {\n        \"dtype\": \"number\",\n        \"std\": 23,\n        \"min\": 0,\n        \"max\": 124,\n        \"num_unique_values\": 40,\n        \"samples\": [\n          29,\n          6,\n          24\n        ],\n        \"semantic_type\": \"\",\n        \"description\": \"\"\n      }\n    },\n    {\n      \"column\": \"Y\",\n      \"properties\": {\n        \"dtype\": \"number\",\n        \"std\": 87.32755263404981,\n        \"min\": 0.0,\n        \"max\": 422.2,\n        \"num_unique_values\": 62,\n        \"samples\": [\n          93.0,\n          137.9,\n          392.5\n        ],\n        \"semantic_type\": \"\",\n        \"description\": \"\"\n      }\n    }\n  ]\n}"
            }
          },
          "metadata": {},
          "execution_count": 2
        }
      ]
    },
    {
      "cell_type": "code",
      "source": [
        "x - number of claim\n",
        "y - total payment of all the claim\n",
        "\n"
      ],
      "metadata": {
        "id": "n3AsFzA9tgZi"
      },
      "execution_count": null,
      "outputs": []
    },
    {
      "cell_type": "code",
      "source": [
        "# Steps:\n",
        "1. Data collect - Load\n",
        "2. EDA (Exploartory data Analysis)\n",
        "    2.1 Data clearning\n",
        "    2.2 Missing value\n",
        "    2.3 duplicate values\n",
        "    2.4 outlier\n",
        "    2.5.Feature engineering  / scaling\n",
        "    2.5 data normalization\n",
        "3. Feature Selection (input / output)\n",
        "4. Split data into training/testing\n",
        "5. ML algorithm selection\n",
        "6. Create ML Model\n",
        "7. Ask ML model Learn the training data\n",
        "8. Predict ML Model output using Testing data\n",
        "9. Evaluate the Model performance\n",
        "10. Deployement"
      ],
      "metadata": {
        "id": "lD7yFNtfuKpb"
      },
      "execution_count": null,
      "outputs": []
    },
    {
      "cell_type": "code",
      "source": [
        "#EDA\n",
        "\n",
        "data.shape"
      ],
      "metadata": {
        "colab": {
          "base_uri": "https://localhost:8080/"
        },
        "id": "TR_HrN7By41G",
        "outputId": "109638e5-b0cc-4ecd-e418-2cd3db2a398b"
      },
      "execution_count": null,
      "outputs": [
        {
          "output_type": "execute_result",
          "data": {
            "text/plain": [
              "(63, 2)"
            ]
          },
          "metadata": {},
          "execution_count": 3
        }
      ]
    },
    {
      "cell_type": "code",
      "source": [
        "data.info()"
      ],
      "metadata": {
        "colab": {
          "base_uri": "https://localhost:8080/"
        },
        "id": "Wq-Empj2zNaI",
        "outputId": "dd0f6acf-fa0a-4dfa-848a-8dabf1820215"
      },
      "execution_count": null,
      "outputs": [
        {
          "output_type": "stream",
          "name": "stdout",
          "text": [
            "<class 'pandas.core.frame.DataFrame'>\n",
            "RangeIndex: 63 entries, 0 to 62\n",
            "Data columns (total 2 columns):\n",
            " #   Column  Non-Null Count  Dtype  \n",
            "---  ------  --------------  -----  \n",
            " 0   X       63 non-null     int64  \n",
            " 1   Y       63 non-null     float64\n",
            "dtypes: float64(1), int64(1)\n",
            "memory usage: 1.1 KB\n"
          ]
        }
      ]
    },
    {
      "cell_type": "code",
      "source": [
        "data.columns"
      ],
      "metadata": {
        "colab": {
          "base_uri": "https://localhost:8080/"
        },
        "id": "q5V-hN9vzZ-K",
        "outputId": "bb2ab175-739f-4f72-f8a2-241efe3577ad"
      },
      "execution_count": null,
      "outputs": [
        {
          "output_type": "execute_result",
          "data": {
            "text/plain": [
              "Index(['X', 'Y'], dtype='object')"
            ]
          },
          "metadata": {},
          "execution_count": 6
        }
      ]
    },
    {
      "cell_type": "code",
      "source": [
        "fig = px.box(data['X'], points='all')\n",
        "fig.update_layout(title=f'Distribution of X', title_x=0.5, yaxis_title=\"Number of Insurance Claims\")\n",
        "\n",
        "fig.show()\n",
        "\n"
      ],
      "metadata": {
        "colab": {
          "base_uri": "https://localhost:8080/",
          "height": 542
        },
        "id": "dl6swr8vzj7J",
        "outputId": "a8f6959d-cf61-43d8-f50f-f5f2309703eb"
      },
      "execution_count": null,
      "outputs": [
        {
          "output_type": "display_data",
          "data": {
            "text/html": [
              "<html>\n",
              "<head><meta charset=\"utf-8\" /></head>\n",
              "<body>\n",
              "    <div>            <script src=\"https://cdnjs.cloudflare.com/ajax/libs/mathjax/2.7.5/MathJax.js?config=TeX-AMS-MML_SVG\"></script><script type=\"text/javascript\">if (window.MathJax && window.MathJax.Hub && window.MathJax.Hub.Config) {window.MathJax.Hub.Config({SVG: {font: \"STIX-Web\"}});}</script>                <script type=\"text/javascript\">window.PlotlyConfig = {MathJaxConfig: 'local'};</script>\n",
              "        <script charset=\"utf-8\" src=\"https://cdn.plot.ly/plotly-2.24.1.min.js\"></script>                <div id=\"47e34df7-1d75-40d7-97d5-f70da2304a86\" class=\"plotly-graph-div\" style=\"height:525px; width:100%;\"></div>            <script type=\"text/javascript\">                                    window.PLOTLYENV=window.PLOTLYENV || {};                                    if (document.getElementById(\"47e34df7-1d75-40d7-97d5-f70da2304a86\")) {                    Plotly.newPlot(                        \"47e34df7-1d75-40d7-97d5-f70da2304a86\",                        [{\"alignmentgroup\":\"True\",\"boxpoints\":\"all\",\"hovertemplate\":\"variable=%{x}\\u003cbr\\u003evalue=%{y}\\u003cextra\\u003e\\u003c\\u002fextra\\u003e\",\"legendgroup\":\"\",\"marker\":{\"color\":\"#636efa\"},\"name\":\"\",\"notched\":false,\"offsetgroup\":\"\",\"orientation\":\"v\",\"showlegend\":false,\"x\":[\"X\",\"X\",\"X\",\"X\",\"X\",\"X\",\"X\",\"X\",\"X\",\"X\",\"X\",\"X\",\"X\",\"X\",\"X\",\"X\",\"X\",\"X\",\"X\",\"X\",\"X\",\"X\",\"X\",\"X\",\"X\",\"X\",\"X\",\"X\",\"X\",\"X\",\"X\",\"X\",\"X\",\"X\",\"X\",\"X\",\"X\",\"X\",\"X\",\"X\",\"X\",\"X\",\"X\",\"X\",\"X\",\"X\",\"X\",\"X\",\"X\",\"X\",\"X\",\"X\",\"X\",\"X\",\"X\",\"X\",\"X\",\"X\",\"X\",\"X\",\"X\",\"X\",\"X\"],\"x0\":\" \",\"xaxis\":\"x\",\"y\":[108,19,13,124,40,57,23,14,45,10,5,48,11,23,7,2,24,6,3,23,6,9,9,3,29,7,4,20,7,4,0,25,6,5,22,11,61,12,4,16,13,60,41,37,55,41,11,27,8,3,17,13,13,15,8,29,30,24,9,31,14,53,26],\"y0\":\" \",\"yaxis\":\"y\",\"type\":\"box\"}],                        {\"template\":{\"data\":{\"histogram2dcontour\":[{\"type\":\"histogram2dcontour\",\"colorbar\":{\"outlinewidth\":0,\"ticks\":\"\"},\"colorscale\":[[0.0,\"#0d0887\"],[0.1111111111111111,\"#46039f\"],[0.2222222222222222,\"#7201a8\"],[0.3333333333333333,\"#9c179e\"],[0.4444444444444444,\"#bd3786\"],[0.5555555555555556,\"#d8576b\"],[0.6666666666666666,\"#ed7953\"],[0.7777777777777778,\"#fb9f3a\"],[0.8888888888888888,\"#fdca26\"],[1.0,\"#f0f921\"]]}],\"choropleth\":[{\"type\":\"choropleth\",\"colorbar\":{\"outlinewidth\":0,\"ticks\":\"\"}}],\"histogram2d\":[{\"type\":\"histogram2d\",\"colorbar\":{\"outlinewidth\":0,\"ticks\":\"\"},\"colorscale\":[[0.0,\"#0d0887\"],[0.1111111111111111,\"#46039f\"],[0.2222222222222222,\"#7201a8\"],[0.3333333333333333,\"#9c179e\"],[0.4444444444444444,\"#bd3786\"],[0.5555555555555556,\"#d8576b\"],[0.6666666666666666,\"#ed7953\"],[0.7777777777777778,\"#fb9f3a\"],[0.8888888888888888,\"#fdca26\"],[1.0,\"#f0f921\"]]}],\"heatmap\":[{\"type\":\"heatmap\",\"colorbar\":{\"outlinewidth\":0,\"ticks\":\"\"},\"colorscale\":[[0.0,\"#0d0887\"],[0.1111111111111111,\"#46039f\"],[0.2222222222222222,\"#7201a8\"],[0.3333333333333333,\"#9c179e\"],[0.4444444444444444,\"#bd3786\"],[0.5555555555555556,\"#d8576b\"],[0.6666666666666666,\"#ed7953\"],[0.7777777777777778,\"#fb9f3a\"],[0.8888888888888888,\"#fdca26\"],[1.0,\"#f0f921\"]]}],\"heatmapgl\":[{\"type\":\"heatmapgl\",\"colorbar\":{\"outlinewidth\":0,\"ticks\":\"\"},\"colorscale\":[[0.0,\"#0d0887\"],[0.1111111111111111,\"#46039f\"],[0.2222222222222222,\"#7201a8\"],[0.3333333333333333,\"#9c179e\"],[0.4444444444444444,\"#bd3786\"],[0.5555555555555556,\"#d8576b\"],[0.6666666666666666,\"#ed7953\"],[0.7777777777777778,\"#fb9f3a\"],[0.8888888888888888,\"#fdca26\"],[1.0,\"#f0f921\"]]}],\"contourcarpet\":[{\"type\":\"contourcarpet\",\"colorbar\":{\"outlinewidth\":0,\"ticks\":\"\"}}],\"contour\":[{\"type\":\"contour\",\"colorbar\":{\"outlinewidth\":0,\"ticks\":\"\"},\"colorscale\":[[0.0,\"#0d0887\"],[0.1111111111111111,\"#46039f\"],[0.2222222222222222,\"#7201a8\"],[0.3333333333333333,\"#9c179e\"],[0.4444444444444444,\"#bd3786\"],[0.5555555555555556,\"#d8576b\"],[0.6666666666666666,\"#ed7953\"],[0.7777777777777778,\"#fb9f3a\"],[0.8888888888888888,\"#fdca26\"],[1.0,\"#f0f921\"]]}],\"surface\":[{\"type\":\"surface\",\"colorbar\":{\"outlinewidth\":0,\"ticks\":\"\"},\"colorscale\":[[0.0,\"#0d0887\"],[0.1111111111111111,\"#46039f\"],[0.2222222222222222,\"#7201a8\"],[0.3333333333333333,\"#9c179e\"],[0.4444444444444444,\"#bd3786\"],[0.5555555555555556,\"#d8576b\"],[0.6666666666666666,\"#ed7953\"],[0.7777777777777778,\"#fb9f3a\"],[0.8888888888888888,\"#fdca26\"],[1.0,\"#f0f921\"]]}],\"mesh3d\":[{\"type\":\"mesh3d\",\"colorbar\":{\"outlinewidth\":0,\"ticks\":\"\"}}],\"scatter\":[{\"fillpattern\":{\"fillmode\":\"overlay\",\"size\":10,\"solidity\":0.2},\"type\":\"scatter\"}],\"parcoords\":[{\"type\":\"parcoords\",\"line\":{\"colorbar\":{\"outlinewidth\":0,\"ticks\":\"\"}}}],\"scatterpolargl\":[{\"type\":\"scatterpolargl\",\"marker\":{\"colorbar\":{\"outlinewidth\":0,\"ticks\":\"\"}}}],\"bar\":[{\"error_x\":{\"color\":\"#2a3f5f\"},\"error_y\":{\"color\":\"#2a3f5f\"},\"marker\":{\"line\":{\"color\":\"#E5ECF6\",\"width\":0.5},\"pattern\":{\"fillmode\":\"overlay\",\"size\":10,\"solidity\":0.2}},\"type\":\"bar\"}],\"scattergeo\":[{\"type\":\"scattergeo\",\"marker\":{\"colorbar\":{\"outlinewidth\":0,\"ticks\":\"\"}}}],\"scatterpolar\":[{\"type\":\"scatterpolar\",\"marker\":{\"colorbar\":{\"outlinewidth\":0,\"ticks\":\"\"}}}],\"histogram\":[{\"marker\":{\"pattern\":{\"fillmode\":\"overlay\",\"size\":10,\"solidity\":0.2}},\"type\":\"histogram\"}],\"scattergl\":[{\"type\":\"scattergl\",\"marker\":{\"colorbar\":{\"outlinewidth\":0,\"ticks\":\"\"}}}],\"scatter3d\":[{\"type\":\"scatter3d\",\"line\":{\"colorbar\":{\"outlinewidth\":0,\"ticks\":\"\"}},\"marker\":{\"colorbar\":{\"outlinewidth\":0,\"ticks\":\"\"}}}],\"scattermapbox\":[{\"type\":\"scattermapbox\",\"marker\":{\"colorbar\":{\"outlinewidth\":0,\"ticks\":\"\"}}}],\"scatterternary\":[{\"type\":\"scatterternary\",\"marker\":{\"colorbar\":{\"outlinewidth\":0,\"ticks\":\"\"}}}],\"scattercarpet\":[{\"type\":\"scattercarpet\",\"marker\":{\"colorbar\":{\"outlinewidth\":0,\"ticks\":\"\"}}}],\"carpet\":[{\"aaxis\":{\"endlinecolor\":\"#2a3f5f\",\"gridcolor\":\"white\",\"linecolor\":\"white\",\"minorgridcolor\":\"white\",\"startlinecolor\":\"#2a3f5f\"},\"baxis\":{\"endlinecolor\":\"#2a3f5f\",\"gridcolor\":\"white\",\"linecolor\":\"white\",\"minorgridcolor\":\"white\",\"startlinecolor\":\"#2a3f5f\"},\"type\":\"carpet\"}],\"table\":[{\"cells\":{\"fill\":{\"color\":\"#EBF0F8\"},\"line\":{\"color\":\"white\"}},\"header\":{\"fill\":{\"color\":\"#C8D4E3\"},\"line\":{\"color\":\"white\"}},\"type\":\"table\"}],\"barpolar\":[{\"marker\":{\"line\":{\"color\":\"#E5ECF6\",\"width\":0.5},\"pattern\":{\"fillmode\":\"overlay\",\"size\":10,\"solidity\":0.2}},\"type\":\"barpolar\"}],\"pie\":[{\"automargin\":true,\"type\":\"pie\"}]},\"layout\":{\"autotypenumbers\":\"strict\",\"colorway\":[\"#636efa\",\"#EF553B\",\"#00cc96\",\"#ab63fa\",\"#FFA15A\",\"#19d3f3\",\"#FF6692\",\"#B6E880\",\"#FF97FF\",\"#FECB52\"],\"font\":{\"color\":\"#2a3f5f\"},\"hovermode\":\"closest\",\"hoverlabel\":{\"align\":\"left\"},\"paper_bgcolor\":\"white\",\"plot_bgcolor\":\"#E5ECF6\",\"polar\":{\"bgcolor\":\"#E5ECF6\",\"angularaxis\":{\"gridcolor\":\"white\",\"linecolor\":\"white\",\"ticks\":\"\"},\"radialaxis\":{\"gridcolor\":\"white\",\"linecolor\":\"white\",\"ticks\":\"\"}},\"ternary\":{\"bgcolor\":\"#E5ECF6\",\"aaxis\":{\"gridcolor\":\"white\",\"linecolor\":\"white\",\"ticks\":\"\"},\"baxis\":{\"gridcolor\":\"white\",\"linecolor\":\"white\",\"ticks\":\"\"},\"caxis\":{\"gridcolor\":\"white\",\"linecolor\":\"white\",\"ticks\":\"\"}},\"coloraxis\":{\"colorbar\":{\"outlinewidth\":0,\"ticks\":\"\"}},\"colorscale\":{\"sequential\":[[0.0,\"#0d0887\"],[0.1111111111111111,\"#46039f\"],[0.2222222222222222,\"#7201a8\"],[0.3333333333333333,\"#9c179e\"],[0.4444444444444444,\"#bd3786\"],[0.5555555555555556,\"#d8576b\"],[0.6666666666666666,\"#ed7953\"],[0.7777777777777778,\"#fb9f3a\"],[0.8888888888888888,\"#fdca26\"],[1.0,\"#f0f921\"]],\"sequentialminus\":[[0.0,\"#0d0887\"],[0.1111111111111111,\"#46039f\"],[0.2222222222222222,\"#7201a8\"],[0.3333333333333333,\"#9c179e\"],[0.4444444444444444,\"#bd3786\"],[0.5555555555555556,\"#d8576b\"],[0.6666666666666666,\"#ed7953\"],[0.7777777777777778,\"#fb9f3a\"],[0.8888888888888888,\"#fdca26\"],[1.0,\"#f0f921\"]],\"diverging\":[[0,\"#8e0152\"],[0.1,\"#c51b7d\"],[0.2,\"#de77ae\"],[0.3,\"#f1b6da\"],[0.4,\"#fde0ef\"],[0.5,\"#f7f7f7\"],[0.6,\"#e6f5d0\"],[0.7,\"#b8e186\"],[0.8,\"#7fbc41\"],[0.9,\"#4d9221\"],[1,\"#276419\"]]},\"xaxis\":{\"gridcolor\":\"white\",\"linecolor\":\"white\",\"ticks\":\"\",\"title\":{\"standoff\":15},\"zerolinecolor\":\"white\",\"automargin\":true,\"zerolinewidth\":2},\"yaxis\":{\"gridcolor\":\"white\",\"linecolor\":\"white\",\"ticks\":\"\",\"title\":{\"standoff\":15},\"zerolinecolor\":\"white\",\"automargin\":true,\"zerolinewidth\":2},\"scene\":{\"xaxis\":{\"backgroundcolor\":\"#E5ECF6\",\"gridcolor\":\"white\",\"linecolor\":\"white\",\"showbackground\":true,\"ticks\":\"\",\"zerolinecolor\":\"white\",\"gridwidth\":2},\"yaxis\":{\"backgroundcolor\":\"#E5ECF6\",\"gridcolor\":\"white\",\"linecolor\":\"white\",\"showbackground\":true,\"ticks\":\"\",\"zerolinecolor\":\"white\",\"gridwidth\":2},\"zaxis\":{\"backgroundcolor\":\"#E5ECF6\",\"gridcolor\":\"white\",\"linecolor\":\"white\",\"showbackground\":true,\"ticks\":\"\",\"zerolinecolor\":\"white\",\"gridwidth\":2}},\"shapedefaults\":{\"line\":{\"color\":\"#2a3f5f\"}},\"annotationdefaults\":{\"arrowcolor\":\"#2a3f5f\",\"arrowhead\":0,\"arrowwidth\":1},\"geo\":{\"bgcolor\":\"white\",\"landcolor\":\"#E5ECF6\",\"subunitcolor\":\"white\",\"showland\":true,\"showlakes\":true,\"lakecolor\":\"white\"},\"title\":{\"x\":0.05},\"mapbox\":{\"style\":\"light\"}}},\"xaxis\":{\"anchor\":\"y\",\"domain\":[0.0,1.0],\"title\":{\"text\":\"variable\"}},\"yaxis\":{\"anchor\":\"x\",\"domain\":[0.0,1.0],\"title\":{\"text\":\"Number of Insurance Claims\"}},\"legend\":{\"tracegroupgap\":0},\"margin\":{\"t\":60},\"boxmode\":\"group\",\"title\":{\"text\":\"Distribution of X\",\"x\":0.5}},                        {\"responsive\": true}                    ).then(function(){\n",
              "                            \n",
              "var gd = document.getElementById('47e34df7-1d75-40d7-97d5-f70da2304a86');\n",
              "var x = new MutationObserver(function (mutations, observer) {{\n",
              "        var display = window.getComputedStyle(gd).display;\n",
              "        if (!display || display === 'none') {{\n",
              "            console.log([gd, 'removed!']);\n",
              "            Plotly.purge(gd);\n",
              "            observer.disconnect();\n",
              "        }}\n",
              "}});\n",
              "\n",
              "// Listen for the removal of the full notebook cells\n",
              "var notebookContainer = gd.closest('#notebook-container');\n",
              "if (notebookContainer) {{\n",
              "    x.observe(notebookContainer, {childList: true});\n",
              "}}\n",
              "\n",
              "// Listen for the clearing of the current output cell\n",
              "var outputEl = gd.closest('.output');\n",
              "if (outputEl) {{\n",
              "    x.observe(outputEl, {childList: true});\n",
              "}}\n",
              "\n",
              "                        })                };                            </script>        </div>\n",
              "</body>\n",
              "</html>"
            ]
          },
          "metadata": {}
        }
      ]
    },
    {
      "cell_type": "code",
      "source": [
        "fig = px.box(data['Y'], points = 'all')\n",
        "fig.update_layout(title = f'Distribution of Y',title_x=0.5, yaxis_title= \"Amount of Insurance Paid\")\n",
        "fig.show()"
      ],
      "metadata": {
        "colab": {
          "base_uri": "https://localhost:8080/",
          "height": 542
        },
        "id": "6NX4HVYh0oip",
        "outputId": "ae20e991-429f-4b8c-f80d-4a24a34247c7"
      },
      "execution_count": null,
      "outputs": [
        {
          "output_type": "display_data",
          "data": {
            "text/html": [
              "<html>\n",
              "<head><meta charset=\"utf-8\" /></head>\n",
              "<body>\n",
              "    <div>            <script src=\"https://cdnjs.cloudflare.com/ajax/libs/mathjax/2.7.5/MathJax.js?config=TeX-AMS-MML_SVG\"></script><script type=\"text/javascript\">if (window.MathJax && window.MathJax.Hub && window.MathJax.Hub.Config) {window.MathJax.Hub.Config({SVG: {font: \"STIX-Web\"}});}</script>                <script type=\"text/javascript\">window.PlotlyConfig = {MathJaxConfig: 'local'};</script>\n",
              "        <script charset=\"utf-8\" src=\"https://cdn.plot.ly/plotly-2.24.1.min.js\"></script>                <div id=\"99f7bf56-4177-40f9-b7c7-acf4bdcbd5b6\" class=\"plotly-graph-div\" style=\"height:525px; width:100%;\"></div>            <script type=\"text/javascript\">                                    window.PLOTLYENV=window.PLOTLYENV || {};                                    if (document.getElementById(\"99f7bf56-4177-40f9-b7c7-acf4bdcbd5b6\")) {                    Plotly.newPlot(                        \"99f7bf56-4177-40f9-b7c7-acf4bdcbd5b6\",                        [{\"alignmentgroup\":\"True\",\"boxpoints\":\"all\",\"hovertemplate\":\"variable=%{x}\\u003cbr\\u003evalue=%{y}\\u003cextra\\u003e\\u003c\\u002fextra\\u003e\",\"legendgroup\":\"\",\"marker\":{\"color\":\"#636efa\"},\"name\":\"\",\"notched\":false,\"offsetgroup\":\"\",\"orientation\":\"v\",\"showlegend\":false,\"x\":[\"Y\",\"Y\",\"Y\",\"Y\",\"Y\",\"Y\",\"Y\",\"Y\",\"Y\",\"Y\",\"Y\",\"Y\",\"Y\",\"Y\",\"Y\",\"Y\",\"Y\",\"Y\",\"Y\",\"Y\",\"Y\",\"Y\",\"Y\",\"Y\",\"Y\",\"Y\",\"Y\",\"Y\",\"Y\",\"Y\",\"Y\",\"Y\",\"Y\",\"Y\",\"Y\",\"Y\",\"Y\",\"Y\",\"Y\",\"Y\",\"Y\",\"Y\",\"Y\",\"Y\",\"Y\",\"Y\",\"Y\",\"Y\",\"Y\",\"Y\",\"Y\",\"Y\",\"Y\",\"Y\",\"Y\",\"Y\",\"Y\",\"Y\",\"Y\",\"Y\",\"Y\",\"Y\",\"Y\"],\"x0\":\" \",\"xaxis\":\"x\",\"y\":[392.5,46.2,15.7,422.2,119.4,170.9,56.9,77.5,214.0,65.3,20.9,248.1,23.5,39.6,48.8,6.6,134.9,50.9,4.4,113.0,14.8,48.7,52.1,13.2,103.9,77.5,11.8,98.1,27.9,38.1,0.0,69.2,14.6,40.3,161.5,57.2,217.6,58.1,12.6,59.6,89.9,202.4,181.3,152.8,162.8,73.4,21.3,92.6,76.1,39.9,142.1,93.0,31.9,32.1,55.6,133.3,194.5,137.9,87.4,209.8,95.5,244.6,187.5],\"y0\":\" \",\"yaxis\":\"y\",\"type\":\"box\"}],                        {\"template\":{\"data\":{\"histogram2dcontour\":[{\"type\":\"histogram2dcontour\",\"colorbar\":{\"outlinewidth\":0,\"ticks\":\"\"},\"colorscale\":[[0.0,\"#0d0887\"],[0.1111111111111111,\"#46039f\"],[0.2222222222222222,\"#7201a8\"],[0.3333333333333333,\"#9c179e\"],[0.4444444444444444,\"#bd3786\"],[0.5555555555555556,\"#d8576b\"],[0.6666666666666666,\"#ed7953\"],[0.7777777777777778,\"#fb9f3a\"],[0.8888888888888888,\"#fdca26\"],[1.0,\"#f0f921\"]]}],\"choropleth\":[{\"type\":\"choropleth\",\"colorbar\":{\"outlinewidth\":0,\"ticks\":\"\"}}],\"histogram2d\":[{\"type\":\"histogram2d\",\"colorbar\":{\"outlinewidth\":0,\"ticks\":\"\"},\"colorscale\":[[0.0,\"#0d0887\"],[0.1111111111111111,\"#46039f\"],[0.2222222222222222,\"#7201a8\"],[0.3333333333333333,\"#9c179e\"],[0.4444444444444444,\"#bd3786\"],[0.5555555555555556,\"#d8576b\"],[0.6666666666666666,\"#ed7953\"],[0.7777777777777778,\"#fb9f3a\"],[0.8888888888888888,\"#fdca26\"],[1.0,\"#f0f921\"]]}],\"heatmap\":[{\"type\":\"heatmap\",\"colorbar\":{\"outlinewidth\":0,\"ticks\":\"\"},\"colorscale\":[[0.0,\"#0d0887\"],[0.1111111111111111,\"#46039f\"],[0.2222222222222222,\"#7201a8\"],[0.3333333333333333,\"#9c179e\"],[0.4444444444444444,\"#bd3786\"],[0.5555555555555556,\"#d8576b\"],[0.6666666666666666,\"#ed7953\"],[0.7777777777777778,\"#fb9f3a\"],[0.8888888888888888,\"#fdca26\"],[1.0,\"#f0f921\"]]}],\"heatmapgl\":[{\"type\":\"heatmapgl\",\"colorbar\":{\"outlinewidth\":0,\"ticks\":\"\"},\"colorscale\":[[0.0,\"#0d0887\"],[0.1111111111111111,\"#46039f\"],[0.2222222222222222,\"#7201a8\"],[0.3333333333333333,\"#9c179e\"],[0.4444444444444444,\"#bd3786\"],[0.5555555555555556,\"#d8576b\"],[0.6666666666666666,\"#ed7953\"],[0.7777777777777778,\"#fb9f3a\"],[0.8888888888888888,\"#fdca26\"],[1.0,\"#f0f921\"]]}],\"contourcarpet\":[{\"type\":\"contourcarpet\",\"colorbar\":{\"outlinewidth\":0,\"ticks\":\"\"}}],\"contour\":[{\"type\":\"contour\",\"colorbar\":{\"outlinewidth\":0,\"ticks\":\"\"},\"colorscale\":[[0.0,\"#0d0887\"],[0.1111111111111111,\"#46039f\"],[0.2222222222222222,\"#7201a8\"],[0.3333333333333333,\"#9c179e\"],[0.4444444444444444,\"#bd3786\"],[0.5555555555555556,\"#d8576b\"],[0.6666666666666666,\"#ed7953\"],[0.7777777777777778,\"#fb9f3a\"],[0.8888888888888888,\"#fdca26\"],[1.0,\"#f0f921\"]]}],\"surface\":[{\"type\":\"surface\",\"colorbar\":{\"outlinewidth\":0,\"ticks\":\"\"},\"colorscale\":[[0.0,\"#0d0887\"],[0.1111111111111111,\"#46039f\"],[0.2222222222222222,\"#7201a8\"],[0.3333333333333333,\"#9c179e\"],[0.4444444444444444,\"#bd3786\"],[0.5555555555555556,\"#d8576b\"],[0.6666666666666666,\"#ed7953\"],[0.7777777777777778,\"#fb9f3a\"],[0.8888888888888888,\"#fdca26\"],[1.0,\"#f0f921\"]]}],\"mesh3d\":[{\"type\":\"mesh3d\",\"colorbar\":{\"outlinewidth\":0,\"ticks\":\"\"}}],\"scatter\":[{\"fillpattern\":{\"fillmode\":\"overlay\",\"size\":10,\"solidity\":0.2},\"type\":\"scatter\"}],\"parcoords\":[{\"type\":\"parcoords\",\"line\":{\"colorbar\":{\"outlinewidth\":0,\"ticks\":\"\"}}}],\"scatterpolargl\":[{\"type\":\"scatterpolargl\",\"marker\":{\"colorbar\":{\"outlinewidth\":0,\"ticks\":\"\"}}}],\"bar\":[{\"error_x\":{\"color\":\"#2a3f5f\"},\"error_y\":{\"color\":\"#2a3f5f\"},\"marker\":{\"line\":{\"color\":\"#E5ECF6\",\"width\":0.5},\"pattern\":{\"fillmode\":\"overlay\",\"size\":10,\"solidity\":0.2}},\"type\":\"bar\"}],\"scattergeo\":[{\"type\":\"scattergeo\",\"marker\":{\"colorbar\":{\"outlinewidth\":0,\"ticks\":\"\"}}}],\"scatterpolar\":[{\"type\":\"scatterpolar\",\"marker\":{\"colorbar\":{\"outlinewidth\":0,\"ticks\":\"\"}}}],\"histogram\":[{\"marker\":{\"pattern\":{\"fillmode\":\"overlay\",\"size\":10,\"solidity\":0.2}},\"type\":\"histogram\"}],\"scattergl\":[{\"type\":\"scattergl\",\"marker\":{\"colorbar\":{\"outlinewidth\":0,\"ticks\":\"\"}}}],\"scatter3d\":[{\"type\":\"scatter3d\",\"line\":{\"colorbar\":{\"outlinewidth\":0,\"ticks\":\"\"}},\"marker\":{\"colorbar\":{\"outlinewidth\":0,\"ticks\":\"\"}}}],\"scattermapbox\":[{\"type\":\"scattermapbox\",\"marker\":{\"colorbar\":{\"outlinewidth\":0,\"ticks\":\"\"}}}],\"scatterternary\":[{\"type\":\"scatterternary\",\"marker\":{\"colorbar\":{\"outlinewidth\":0,\"ticks\":\"\"}}}],\"scattercarpet\":[{\"type\":\"scattercarpet\",\"marker\":{\"colorbar\":{\"outlinewidth\":0,\"ticks\":\"\"}}}],\"carpet\":[{\"aaxis\":{\"endlinecolor\":\"#2a3f5f\",\"gridcolor\":\"white\",\"linecolor\":\"white\",\"minorgridcolor\":\"white\",\"startlinecolor\":\"#2a3f5f\"},\"baxis\":{\"endlinecolor\":\"#2a3f5f\",\"gridcolor\":\"white\",\"linecolor\":\"white\",\"minorgridcolor\":\"white\",\"startlinecolor\":\"#2a3f5f\"},\"type\":\"carpet\"}],\"table\":[{\"cells\":{\"fill\":{\"color\":\"#EBF0F8\"},\"line\":{\"color\":\"white\"}},\"header\":{\"fill\":{\"color\":\"#C8D4E3\"},\"line\":{\"color\":\"white\"}},\"type\":\"table\"}],\"barpolar\":[{\"marker\":{\"line\":{\"color\":\"#E5ECF6\",\"width\":0.5},\"pattern\":{\"fillmode\":\"overlay\",\"size\":10,\"solidity\":0.2}},\"type\":\"barpolar\"}],\"pie\":[{\"automargin\":true,\"type\":\"pie\"}]},\"layout\":{\"autotypenumbers\":\"strict\",\"colorway\":[\"#636efa\",\"#EF553B\",\"#00cc96\",\"#ab63fa\",\"#FFA15A\",\"#19d3f3\",\"#FF6692\",\"#B6E880\",\"#FF97FF\",\"#FECB52\"],\"font\":{\"color\":\"#2a3f5f\"},\"hovermode\":\"closest\",\"hoverlabel\":{\"align\":\"left\"},\"paper_bgcolor\":\"white\",\"plot_bgcolor\":\"#E5ECF6\",\"polar\":{\"bgcolor\":\"#E5ECF6\",\"angularaxis\":{\"gridcolor\":\"white\",\"linecolor\":\"white\",\"ticks\":\"\"},\"radialaxis\":{\"gridcolor\":\"white\",\"linecolor\":\"white\",\"ticks\":\"\"}},\"ternary\":{\"bgcolor\":\"#E5ECF6\",\"aaxis\":{\"gridcolor\":\"white\",\"linecolor\":\"white\",\"ticks\":\"\"},\"baxis\":{\"gridcolor\":\"white\",\"linecolor\":\"white\",\"ticks\":\"\"},\"caxis\":{\"gridcolor\":\"white\",\"linecolor\":\"white\",\"ticks\":\"\"}},\"coloraxis\":{\"colorbar\":{\"outlinewidth\":0,\"ticks\":\"\"}},\"colorscale\":{\"sequential\":[[0.0,\"#0d0887\"],[0.1111111111111111,\"#46039f\"],[0.2222222222222222,\"#7201a8\"],[0.3333333333333333,\"#9c179e\"],[0.4444444444444444,\"#bd3786\"],[0.5555555555555556,\"#d8576b\"],[0.6666666666666666,\"#ed7953\"],[0.7777777777777778,\"#fb9f3a\"],[0.8888888888888888,\"#fdca26\"],[1.0,\"#f0f921\"]],\"sequentialminus\":[[0.0,\"#0d0887\"],[0.1111111111111111,\"#46039f\"],[0.2222222222222222,\"#7201a8\"],[0.3333333333333333,\"#9c179e\"],[0.4444444444444444,\"#bd3786\"],[0.5555555555555556,\"#d8576b\"],[0.6666666666666666,\"#ed7953\"],[0.7777777777777778,\"#fb9f3a\"],[0.8888888888888888,\"#fdca26\"],[1.0,\"#f0f921\"]],\"diverging\":[[0,\"#8e0152\"],[0.1,\"#c51b7d\"],[0.2,\"#de77ae\"],[0.3,\"#f1b6da\"],[0.4,\"#fde0ef\"],[0.5,\"#f7f7f7\"],[0.6,\"#e6f5d0\"],[0.7,\"#b8e186\"],[0.8,\"#7fbc41\"],[0.9,\"#4d9221\"],[1,\"#276419\"]]},\"xaxis\":{\"gridcolor\":\"white\",\"linecolor\":\"white\",\"ticks\":\"\",\"title\":{\"standoff\":15},\"zerolinecolor\":\"white\",\"automargin\":true,\"zerolinewidth\":2},\"yaxis\":{\"gridcolor\":\"white\",\"linecolor\":\"white\",\"ticks\":\"\",\"title\":{\"standoff\":15},\"zerolinecolor\":\"white\",\"automargin\":true,\"zerolinewidth\":2},\"scene\":{\"xaxis\":{\"backgroundcolor\":\"#E5ECF6\",\"gridcolor\":\"white\",\"linecolor\":\"white\",\"showbackground\":true,\"ticks\":\"\",\"zerolinecolor\":\"white\",\"gridwidth\":2},\"yaxis\":{\"backgroundcolor\":\"#E5ECF6\",\"gridcolor\":\"white\",\"linecolor\":\"white\",\"showbackground\":true,\"ticks\":\"\",\"zerolinecolor\":\"white\",\"gridwidth\":2},\"zaxis\":{\"backgroundcolor\":\"#E5ECF6\",\"gridcolor\":\"white\",\"linecolor\":\"white\",\"showbackground\":true,\"ticks\":\"\",\"zerolinecolor\":\"white\",\"gridwidth\":2}},\"shapedefaults\":{\"line\":{\"color\":\"#2a3f5f\"}},\"annotationdefaults\":{\"arrowcolor\":\"#2a3f5f\",\"arrowhead\":0,\"arrowwidth\":1},\"geo\":{\"bgcolor\":\"white\",\"landcolor\":\"#E5ECF6\",\"subunitcolor\":\"white\",\"showland\":true,\"showlakes\":true,\"lakecolor\":\"white\"},\"title\":{\"x\":0.05},\"mapbox\":{\"style\":\"light\"}}},\"xaxis\":{\"anchor\":\"y\",\"domain\":[0.0,1.0],\"title\":{\"text\":\"variable\"}},\"yaxis\":{\"anchor\":\"x\",\"domain\":[0.0,1.0],\"title\":{\"text\":\"Amount of Insurance Paid\"}},\"legend\":{\"tracegroupgap\":0},\"margin\":{\"t\":60},\"boxmode\":\"group\",\"title\":{\"text\":\"Distribution of Y\",\"x\":0.5}},                        {\"responsive\": true}                    ).then(function(){\n",
              "                            \n",
              "var gd = document.getElementById('99f7bf56-4177-40f9-b7c7-acf4bdcbd5b6');\n",
              "var x = new MutationObserver(function (mutations, observer) {{\n",
              "        var display = window.getComputedStyle(gd).display;\n",
              "        if (!display || display === 'none') {{\n",
              "            console.log([gd, 'removed!']);\n",
              "            Plotly.purge(gd);\n",
              "            observer.disconnect();\n",
              "        }}\n",
              "}});\n",
              "\n",
              "// Listen for the removal of the full notebook cells\n",
              "var notebookContainer = gd.closest('#notebook-container');\n",
              "if (notebookContainer) {{\n",
              "    x.observe(notebookContainer, {childList: true});\n",
              "}}\n",
              "\n",
              "// Listen for the clearing of the current output cell\n",
              "var outputEl = gd.closest('.output');\n",
              "if (outputEl) {{\n",
              "    x.observe(outputEl, {childList: true});\n",
              "}}\n",
              "\n",
              "                        })                };                            </script>        </div>\n",
              "</body>\n",
              "</html>"
            ]
          },
          "metadata": {}
        }
      ]
    },
    {
      "cell_type": "code",
      "source": [
        "# Mean & variance\n",
        "\n",
        "mean_x =np.mean(data['X'])\n",
        "mean_y =np.mean(data['Y'])\n",
        "\n",
        "var_x = np.var(data['X'])\n",
        "var_y = np.var(data['Y'])\n",
        "\n",
        "print('x stats: mean = %.3f  variance = %.3f' %(mean_x, var_x))\n",
        "print('y stats: mean = %.3f  variance = %.3f' % (mean_y, var_y))"
      ],
      "metadata": {
        "colab": {
          "base_uri": "https://localhost:8080/"
        },
        "id": "sWT83VHj1XDJ",
        "outputId": "9c433e96-f23b-4bdd-ff0c-e9a5d9ca5baa"
      },
      "execution_count": null,
      "outputs": [
        {
          "output_type": "stream",
          "name": "stdout",
          "text": [
            "x stats: mean = 22.905  variance = 536.658\n",
            "y stats: mean = 98.187  variance = 7505.052\n"
          ]
        }
      ]
    },
    {
      "cell_type": "markdown",
      "source": [
        "![image.png](data:image/png;base64,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)"
      ],
      "metadata": {
        "id": "SWNUmMZd4oNK"
      }
    },
    {
      "cell_type": "code",
      "source": [
        "#calculate covariance between x & y\n",
        "def covariance(x,y):\n",
        "  mean_x = np.mean(x)\n",
        "  mean_y = np.mean(y)\n",
        "  covar = 0.0\n",
        "\n",
        "  for i in range(len(x)):\n",
        "    covar += (x[i] - mean_x) * (y[i] - mean_y)\n",
        "\n",
        "  return covar/len(x)\n",
        "\n",
        "covar_xy= covariance(data['X'], data['Y'])\n",
        "print(f'Cov(X,Y) : {covar_xy}')\n"
      ],
      "metadata": {
        "colab": {
          "base_uri": "https://localhost:8080/"
        },
        "id": "gZkwBrcS4UGG",
        "outputId": "cbd59f57-d0bb-474d-bc9f-3c040b4e765c"
      },
      "execution_count": null,
      "outputs": [
        {
          "output_type": "stream",
          "name": "stdout",
          "text": [
            "Cov(X,Y) : 1832.0543461829182\n"
          ]
        }
      ]
    },
    {
      "cell_type": "markdown",
      "source": [
        "![image.png](data:image/png;base64,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)"
      ],
      "metadata": {
        "id": "O903ojoO6LJR"
      }
    },
    {
      "cell_type": "code",
      "source": [
        "# Estimate Coefficients\n",
        "\n",
        "b1 = covar_xy / var_x\n",
        "b0 = mean_y - b1 * mean_x\n",
        "\n",
        "print(f'Coefficents :\\n b0: {b0} b1 : {b1}')"
      ],
      "metadata": {
        "colab": {
          "base_uri": "https://localhost:8080/"
        },
        "id": "-oeZBCkB51SN",
        "outputId": "f078cbb0-7247-45fb-fe06-ca8c31857f7f"
      },
      "execution_count": null,
      "outputs": [
        {
          "output_type": "stream",
          "name": "stdout",
          "text": [
            "Coefficents :\n",
            " b0: 19.99448575911478 b1 : 3.413823560066368\n"
          ]
        }
      ]
    },
    {
      "cell_type": "code",
      "source": [
        "#prediction\n",
        "\n",
        "x = data['X'].values.copy()\n",
        "\n",
        "x"
      ],
      "metadata": {
        "colab": {
          "base_uri": "https://localhost:8080/"
        },
        "id": "g4QM13ZB6ujD",
        "outputId": "a01111e2-d680-4b55-e4be-43fe3cbc9bd8"
      },
      "execution_count": null,
      "outputs": [
        {
          "output_type": "execute_result",
          "data": {
            "text/plain": [
              "array([108,  19,  13, 124,  40,  57,  23,  14,  45,  10,   5,  48,  11,\n",
              "        23,   7,   2,  24,   6,   3,  23,   6,   9,   9,   3,  29,   7,\n",
              "         4,  20,   7,   4,   0,  25,   6,   5,  22,  11,  61,  12,   4,\n",
              "        16,  13,  60,  41,  37,  55,  41,  11,  27,   8,   3,  17,  13,\n",
              "        13,  15,   8,  29,  30,  24,   9,  31,  14,  53,  26])"
            ]
          },
          "metadata": {},
          "execution_count": 17
        }
      ]
    },
    {
      "cell_type": "code",
      "source": [
        "#prediction\n",
        "\n",
        "x = data['X'].values.copy()\n",
        "\n",
        "print(f'x: {x}')\n",
        "\n",
        "y_hat = b0 + b1 * x\n",
        "\n",
        "print(f'\\n\\ny_hat: {y_hat}')"
      ],
      "metadata": {
        "colab": {
          "base_uri": "https://localhost:8080/"
        },
        "id": "7WcGGAo87Ea7",
        "outputId": "368194fd-41a8-4b22-a420-07a007f2a0d5"
      },
      "execution_count": null,
      "outputs": [
        {
          "output_type": "stream",
          "name": "stdout",
          "text": [
            "x: [108  19  13 124  40  57  23  14  45  10   5  48  11  23   7   2  24   6\n",
            "   3  23   6   9   9   3  29   7   4  20   7   4   0  25   6   5  22  11\n",
            "  61  12   4  16  13  60  41  37  55  41  11  27   8   3  17  13  13  15\n",
            "   8  29  30  24   9  31  14  53  26]\n",
            "\n",
            "\n",
            "y_hat: [388.68743025  84.8571334   64.37419204 443.30860721 156.54742816\n",
            " 214.58242868  98.51242764  67.7880156  173.61654596  54.13272136\n",
            "  37.06360356 183.85801664  57.54654492  98.51242764  43.89125068\n",
            "  26.82213288 101.9262512   40.47742712  30.23595644  98.51242764\n",
            "  40.47742712  50.7188978   50.7188978   30.23595644 118.995369\n",
            "  43.89125068  33.64978     88.27095696  43.89125068  33.64978\n",
            "  19.99448576 105.34007476  40.47742712  37.06360356  95.09860408\n",
            "  57.54654492 228.23772292  60.96036848  33.64978     74.61566272\n",
            "  64.37419204 224.82389936 159.96125172 146.30595748 207.75478156\n",
            " 159.96125172  57.54654492 112.16772188  47.30507424  30.23595644\n",
            "  78.02948628  64.37419204  64.37419204  71.20183916  47.30507424\n",
            " 118.995369   122.40919256 101.9262512   50.7188978  125.82301612\n",
            "  67.7880156  200.92713444 108.75389832]\n"
          ]
        }
      ]
    },
    {
      "cell_type": "code",
      "source": [
        "y = data['Y'].values\n",
        "print(f'\\n\\ny: {y}')"
      ],
      "metadata": {
        "colab": {
          "base_uri": "https://localhost:8080/"
        },
        "id": "IlnMfGwJ7W5h",
        "outputId": "b99019ac-4e85-4279-c966-208780bfe093"
      },
      "execution_count": null,
      "outputs": [
        {
          "output_type": "stream",
          "name": "stdout",
          "text": [
            "\n",
            "\n",
            "y: [392.5  46.2  15.7 422.2 119.4 170.9  56.9  77.5 214.   65.3  20.9 248.1\n",
            "  23.5  39.6  48.8   6.6 134.9  50.9   4.4 113.   14.8  48.7  52.1  13.2\n",
            " 103.9  77.5  11.8  98.1  27.9  38.1   0.   69.2  14.6  40.3 161.5  57.2\n",
            " 217.6  58.1  12.6  59.6  89.9 202.4 181.3 152.8 162.8  73.4  21.3  92.6\n",
            "  76.1  39.9 142.1  93.   31.9  32.1  55.6 133.3 194.5 137.9  87.4 209.8\n",
            "  95.5 244.6 187.5]\n"
          ]
        }
      ]
    },
    {
      "cell_type": "code",
      "source": [
        "import plotly.graph_objects as go\n",
        "fig = go.Figure()\n",
        "\n",
        "fig.add_trace(go.Scatter(x=data['X'], y=data['Y'], name='train', mode='markers', marker_color='rgba(152, 0, 0, .8)'))\n",
        "fig.add_trace(go.Scatter(x=data['X'], y=y_hat, name='prediction', mode='lines+markers', marker_color='rgba(0, 152, 0, .8)'))\n",
        "\n",
        "fig.update_layout(title = f'Swedish Automobiles Data\\n (visual comparison for correctness)',title_x=0.5, xaxis_title= \"Number of Claims\", yaxis_title=\"Payment in Claims\")\n",
        "fig.update_xaxes(showline=True, linewidth=2, linecolor='black', mirror=True)\n",
        "fig.update_yaxes(showline=True, linewidth=2, linecolor='black', mirror=True)\n",
        "fig.show()"
      ],
      "metadata": {
        "colab": {
          "base_uri": "https://localhost:8080/",
          "height": 542
        },
        "id": "VXytdD1s7eb-",
        "outputId": "7b633ded-4fc1-46d7-8fbd-79ebcf15f18c"
      },
      "execution_count": null,
      "outputs": [
        {
          "output_type": "display_data",
          "data": {
            "text/html": [
              "<html>\n",
              "<head><meta charset=\"utf-8\" /></head>\n",
              "<body>\n",
              "    <div>            <script src=\"https://cdnjs.cloudflare.com/ajax/libs/mathjax/2.7.5/MathJax.js?config=TeX-AMS-MML_SVG\"></script><script type=\"text/javascript\">if (window.MathJax && window.MathJax.Hub && window.MathJax.Hub.Config) {window.MathJax.Hub.Config({SVG: {font: \"STIX-Web\"}});}</script>                <script type=\"text/javascript\">window.PlotlyConfig = {MathJaxConfig: 'local'};</script>\n",
              "        <script charset=\"utf-8\" src=\"https://cdn.plot.ly/plotly-2.24.1.min.js\"></script>                <div id=\"d4f57d54-c027-4530-8eb1-4c061506e342\" class=\"plotly-graph-div\" style=\"height:525px; width:100%;\"></div>            <script type=\"text/javascript\">                                    window.PLOTLYENV=window.PLOTLYENV || {};                                    if (document.getElementById(\"d4f57d54-c027-4530-8eb1-4c061506e342\")) {                    Plotly.newPlot(                        \"d4f57d54-c027-4530-8eb1-4c061506e342\",                        [{\"marker\":{\"color\":\"rgba(152, 0, 0, .8)\"},\"mode\":\"markers\",\"name\":\"train\",\"x\":[108,19,13,124,40,57,23,14,45,10,5,48,11,23,7,2,24,6,3,23,6,9,9,3,29,7,4,20,7,4,0,25,6,5,22,11,61,12,4,16,13,60,41,37,55,41,11,27,8,3,17,13,13,15,8,29,30,24,9,31,14,53,26],\"y\":[392.5,46.2,15.7,422.2,119.4,170.9,56.9,77.5,214.0,65.3,20.9,248.1,23.5,39.6,48.8,6.6,134.9,50.9,4.4,113.0,14.8,48.7,52.1,13.2,103.9,77.5,11.8,98.1,27.9,38.1,0.0,69.2,14.6,40.3,161.5,57.2,217.6,58.1,12.6,59.6,89.9,202.4,181.3,152.8,162.8,73.4,21.3,92.6,76.1,39.9,142.1,93.0,31.9,32.1,55.6,133.3,194.5,137.9,87.4,209.8,95.5,244.6,187.5],\"type\":\"scatter\"},{\"marker\":{\"color\":\"rgba(0, 152, 0, .8)\"},\"mode\":\"lines+markers\",\"name\":\"prediction\",\"x\":[108,19,13,124,40,57,23,14,45,10,5,48,11,23,7,2,24,6,3,23,6,9,9,3,29,7,4,20,7,4,0,25,6,5,22,11,61,12,4,16,13,60,41,37,55,41,11,27,8,3,17,13,13,15,8,29,30,24,9,31,14,53,26],\"y\":[388.6874302462825,84.85713340037577,64.37419203997757,443.3086072073444,156.5474281617695,214.58242868289776,98.51242764064123,67.78801560004393,173.61654596210133,54.13272135977846,37.06360355944662,183.85801664230044,57.54654491984483,98.51242764064123,43.89125067957936,26.822132879247516,101.92625120070761,40.47742711951299,30.235956439313885,98.51242764064123,40.47742711951299,50.718897799712096,50.718897799712096,30.235956439313885,118.99536900103945,43.89125067957936,33.64977999938025,88.27095696044213,43.89125067957936,33.64977999938025,19.99448575911478,105.34007476077397,40.47742711951299,37.06360355944662,95.09860408057487,57.54654491984483,228.2377229231632,60.960368479911196,33.64977999938025,74.61566272017666,64.37419203997757,224.82389936309684,159.96125172183585,146.30595748157037,207.754781562765,159.96125172183585,57.54654491984483,112.16772188090671,47.30507423964572,30.235956439313885,78.02948628024303,64.37419203997757,64.37419203997757,71.2018391601103,47.30507423964572,118.99536900103945,122.40919256110581,101.92625120070761,50.718897799712096,125.82301612117219,67.78801560004393,200.92713444263228,108.75389832084035],\"type\":\"scatter\"}],                        {\"template\":{\"data\":{\"histogram2dcontour\":[{\"type\":\"histogram2dcontour\",\"colorbar\":{\"outlinewidth\":0,\"ticks\":\"\"},\"colorscale\":[[0.0,\"#0d0887\"],[0.1111111111111111,\"#46039f\"],[0.2222222222222222,\"#7201a8\"],[0.3333333333333333,\"#9c179e\"],[0.4444444444444444,\"#bd3786\"],[0.5555555555555556,\"#d8576b\"],[0.6666666666666666,\"#ed7953\"],[0.7777777777777778,\"#fb9f3a\"],[0.8888888888888888,\"#fdca26\"],[1.0,\"#f0f921\"]]}],\"choropleth\":[{\"type\":\"choropleth\",\"colorbar\":{\"outlinewidth\":0,\"ticks\":\"\"}}],\"histogram2d\":[{\"type\":\"histogram2d\",\"colorbar\":{\"outlinewidth\":0,\"ticks\":\"\"},\"colorscale\":[[0.0,\"#0d0887\"],[0.1111111111111111,\"#46039f\"],[0.2222222222222222,\"#7201a8\"],[0.3333333333333333,\"#9c179e\"],[0.4444444444444444,\"#bd3786\"],[0.5555555555555556,\"#d8576b\"],[0.6666666666666666,\"#ed7953\"],[0.7777777777777778,\"#fb9f3a\"],[0.8888888888888888,\"#fdca26\"],[1.0,\"#f0f921\"]]}],\"heatmap\":[{\"type\":\"heatmap\",\"colorbar\":{\"outlinewidth\":0,\"ticks\":\"\"},\"colorscale\":[[0.0,\"#0d0887\"],[0.1111111111111111,\"#46039f\"],[0.2222222222222222,\"#7201a8\"],[0.3333333333333333,\"#9c179e\"],[0.4444444444444444,\"#bd3786\"],[0.5555555555555556,\"#d8576b\"],[0.6666666666666666,\"#ed7953\"],[0.7777777777777778,\"#fb9f3a\"],[0.8888888888888888,\"#fdca26\"],[1.0,\"#f0f921\"]]}],\"heatmapgl\":[{\"type\":\"heatmapgl\",\"colorbar\":{\"outlinewidth\":0,\"ticks\":\"\"},\"colorscale\":[[0.0,\"#0d0887\"],[0.1111111111111111,\"#46039f\"],[0.2222222222222222,\"#7201a8\"],[0.3333333333333333,\"#9c179e\"],[0.4444444444444444,\"#bd3786\"],[0.5555555555555556,\"#d8576b\"],[0.6666666666666666,\"#ed7953\"],[0.7777777777777778,\"#fb9f3a\"],[0.8888888888888888,\"#fdca26\"],[1.0,\"#f0f921\"]]}],\"contourcarpet\":[{\"type\":\"contourcarpet\",\"colorbar\":{\"outlinewidth\":0,\"ticks\":\"\"}}],\"contour\":[{\"type\":\"contour\",\"colorbar\":{\"outlinewidth\":0,\"ticks\":\"\"},\"colorscale\":[[0.0,\"#0d0887\"],[0.1111111111111111,\"#46039f\"],[0.2222222222222222,\"#7201a8\"],[0.3333333333333333,\"#9c179e\"],[0.4444444444444444,\"#bd3786\"],[0.5555555555555556,\"#d8576b\"],[0.6666666666666666,\"#ed7953\"],[0.7777777777777778,\"#fb9f3a\"],[0.8888888888888888,\"#fdca26\"],[1.0,\"#f0f921\"]]}],\"surface\":[{\"type\":\"surface\",\"colorbar\":{\"outlinewidth\":0,\"ticks\":\"\"},\"colorscale\":[[0.0,\"#0d0887\"],[0.1111111111111111,\"#46039f\"],[0.2222222222222222,\"#7201a8\"],[0.3333333333333333,\"#9c179e\"],[0.4444444444444444,\"#bd3786\"],[0.5555555555555556,\"#d8576b\"],[0.6666666666666666,\"#ed7953\"],[0.7777777777777778,\"#fb9f3a\"],[0.8888888888888888,\"#fdca26\"],[1.0,\"#f0f921\"]]}],\"mesh3d\":[{\"type\":\"mesh3d\",\"colorbar\":{\"outlinewidth\":0,\"ticks\":\"\"}}],\"scatter\":[{\"fillpattern\":{\"fillmode\":\"overlay\",\"size\":10,\"solidity\":0.2},\"type\":\"scatter\"}],\"parcoords\":[{\"type\":\"parcoords\",\"line\":{\"colorbar\":{\"outlinewidth\":0,\"ticks\":\"\"}}}],\"scatterpolargl\":[{\"type\":\"scatterpolargl\",\"marker\":{\"colorbar\":{\"outlinewidth\":0,\"ticks\":\"\"}}}],\"bar\":[{\"error_x\":{\"color\":\"#2a3f5f\"},\"error_y\":{\"color\":\"#2a3f5f\"},\"marker\":{\"line\":{\"color\":\"#E5ECF6\",\"width\":0.5},\"pattern\":{\"fillmode\":\"overlay\",\"size\":10,\"solidity\":0.2}},\"type\":\"bar\"}],\"scattergeo\":[{\"type\":\"scattergeo\",\"marker\":{\"colorbar\":{\"outlinewidth\":0,\"ticks\":\"\"}}}],\"scatterpolar\":[{\"type\":\"scatterpolar\",\"marker\":{\"colorbar\":{\"outlinewidth\":0,\"ticks\":\"\"}}}],\"histogram\":[{\"marker\":{\"pattern\":{\"fillmode\":\"overlay\",\"size\":10,\"solidity\":0.2}},\"type\":\"histogram\"}],\"scattergl\":[{\"type\":\"scattergl\",\"marker\":{\"colorbar\":{\"outlinewidth\":0,\"ticks\":\"\"}}}],\"scatter3d\":[{\"type\":\"scatter3d\",\"line\":{\"colorbar\":{\"outlinewidth\":0,\"ticks\":\"\"}},\"marker\":{\"colorbar\":{\"outlinewidth\":0,\"ticks\":\"\"}}}],\"scattermapbox\":[{\"type\":\"scattermapbox\",\"marker\":{\"colorbar\":{\"outlinewidth\":0,\"ticks\":\"\"}}}],\"scatterternary\":[{\"type\":\"scatterternary\",\"marker\":{\"colorbar\":{\"outlinewidth\":0,\"ticks\":\"\"}}}],\"scattercarpet\":[{\"type\":\"scattercarpet\",\"marker\":{\"colorbar\":{\"outlinewidth\":0,\"ticks\":\"\"}}}],\"carpet\":[{\"aaxis\":{\"endlinecolor\":\"#2a3f5f\",\"gridcolor\":\"white\",\"linecolor\":\"white\",\"minorgridcolor\":\"white\",\"startlinecolor\":\"#2a3f5f\"},\"baxis\":{\"endlinecolor\":\"#2a3f5f\",\"gridcolor\":\"white\",\"linecolor\":\"white\",\"minorgridcolor\":\"white\",\"startlinecolor\":\"#2a3f5f\"},\"type\":\"carpet\"}],\"table\":[{\"cells\":{\"fill\":{\"color\":\"#EBF0F8\"},\"line\":{\"color\":\"white\"}},\"header\":{\"fill\":{\"color\":\"#C8D4E3\"},\"line\":{\"color\":\"white\"}},\"type\":\"table\"}],\"barpolar\":[{\"marker\":{\"line\":{\"color\":\"#E5ECF6\",\"width\":0.5},\"pattern\":{\"fillmode\":\"overlay\",\"size\":10,\"solidity\":0.2}},\"type\":\"barpolar\"}],\"pie\":[{\"automargin\":true,\"type\":\"pie\"}]},\"layout\":{\"autotypenumbers\":\"strict\",\"colorway\":[\"#636efa\",\"#EF553B\",\"#00cc96\",\"#ab63fa\",\"#FFA15A\",\"#19d3f3\",\"#FF6692\",\"#B6E880\",\"#FF97FF\",\"#FECB52\"],\"font\":{\"color\":\"#2a3f5f\"},\"hovermode\":\"closest\",\"hoverlabel\":{\"align\":\"left\"},\"paper_bgcolor\":\"white\",\"plot_bgcolor\":\"#E5ECF6\",\"polar\":{\"bgcolor\":\"#E5ECF6\",\"angularaxis\":{\"gridcolor\":\"white\",\"linecolor\":\"white\",\"ticks\":\"\"},\"radialaxis\":{\"gridcolor\":\"white\",\"linecolor\":\"white\",\"ticks\":\"\"}},\"ternary\":{\"bgcolor\":\"#E5ECF6\",\"aaxis\":{\"gridcolor\":\"white\",\"linecolor\":\"white\",\"ticks\":\"\"},\"baxis\":{\"gridcolor\":\"white\",\"linecolor\":\"white\",\"ticks\":\"\"},\"caxis\":{\"gridcolor\":\"white\",\"linecolor\":\"white\",\"ticks\":\"\"}},\"coloraxis\":{\"colorbar\":{\"outlinewidth\":0,\"ticks\":\"\"}},\"colorscale\":{\"sequential\":[[0.0,\"#0d0887\"],[0.1111111111111111,\"#46039f\"],[0.2222222222222222,\"#7201a8\"],[0.3333333333333333,\"#9c179e\"],[0.4444444444444444,\"#bd3786\"],[0.5555555555555556,\"#d8576b\"],[0.6666666666666666,\"#ed7953\"],[0.7777777777777778,\"#fb9f3a\"],[0.8888888888888888,\"#fdca26\"],[1.0,\"#f0f921\"]],\"sequentialminus\":[[0.0,\"#0d0887\"],[0.1111111111111111,\"#46039f\"],[0.2222222222222222,\"#7201a8\"],[0.3333333333333333,\"#9c179e\"],[0.4444444444444444,\"#bd3786\"],[0.5555555555555556,\"#d8576b\"],[0.6666666666666666,\"#ed7953\"],[0.7777777777777778,\"#fb9f3a\"],[0.8888888888888888,\"#fdca26\"],[1.0,\"#f0f921\"]],\"diverging\":[[0,\"#8e0152\"],[0.1,\"#c51b7d\"],[0.2,\"#de77ae\"],[0.3,\"#f1b6da\"],[0.4,\"#fde0ef\"],[0.5,\"#f7f7f7\"],[0.6,\"#e6f5d0\"],[0.7,\"#b8e186\"],[0.8,\"#7fbc41\"],[0.9,\"#4d9221\"],[1,\"#276419\"]]},\"xaxis\":{\"gridcolor\":\"white\",\"linecolor\":\"white\",\"ticks\":\"\",\"title\":{\"standoff\":15},\"zerolinecolor\":\"white\",\"automargin\":true,\"zerolinewidth\":2},\"yaxis\":{\"gridcolor\":\"white\",\"linecolor\":\"white\",\"ticks\":\"\",\"title\":{\"standoff\":15},\"zerolinecolor\":\"white\",\"automargin\":true,\"zerolinewidth\":2},\"scene\":{\"xaxis\":{\"backgroundcolor\":\"#E5ECF6\",\"gridcolor\":\"white\",\"linecolor\":\"white\",\"showbackground\":true,\"ticks\":\"\",\"zerolinecolor\":\"white\",\"gridwidth\":2},\"yaxis\":{\"backgroundcolor\":\"#E5ECF6\",\"gridcolor\":\"white\",\"linecolor\":\"white\",\"showbackground\":true,\"ticks\":\"\",\"zerolinecolor\":\"white\",\"gridwidth\":2},\"zaxis\":{\"backgroundcolor\":\"#E5ECF6\",\"gridcolor\":\"white\",\"linecolor\":\"white\",\"showbackground\":true,\"ticks\":\"\",\"zerolinecolor\":\"white\",\"gridwidth\":2}},\"shapedefaults\":{\"line\":{\"color\":\"#2a3f5f\"}},\"annotationdefaults\":{\"arrowcolor\":\"#2a3f5f\",\"arrowhead\":0,\"arrowwidth\":1},\"geo\":{\"bgcolor\":\"white\",\"landcolor\":\"#E5ECF6\",\"subunitcolor\":\"white\",\"showland\":true,\"showlakes\":true,\"lakecolor\":\"white\"},\"title\":{\"x\":0.05},\"mapbox\":{\"style\":\"light\"}}},\"title\":{\"text\":\"Swedish Automobiles Data\\n (visual comparison for correctness)\",\"x\":0.5},\"xaxis\":{\"title\":{\"text\":\"Number of Claims\"},\"showline\":true,\"linewidth\":2,\"linecolor\":\"black\",\"mirror\":true},\"yaxis\":{\"title\":{\"text\":\"Payment in Claims\"},\"showline\":true,\"linewidth\":2,\"linecolor\":\"black\",\"mirror\":true}},                        {\"responsive\": true}                    ).then(function(){\n",
              "                            \n",
              "var gd = document.getElementById('d4f57d54-c027-4530-8eb1-4c061506e342');\n",
              "var x = new MutationObserver(function (mutations, observer) {{\n",
              "        var display = window.getComputedStyle(gd).display;\n",
              "        if (!display || display === 'none') {{\n",
              "            console.log([gd, 'removed!']);\n",
              "            Plotly.purge(gd);\n",
              "            observer.disconnect();\n",
              "        }}\n",
              "}});\n",
              "\n",
              "// Listen for the removal of the full notebook cells\n",
              "var notebookContainer = gd.closest('#notebook-container');\n",
              "if (notebookContainer) {{\n",
              "    x.observe(notebookContainer, {childList: true});\n",
              "}}\n",
              "\n",
              "// Listen for the clearing of the current output cell\n",
              "var outputEl = gd.closest('.output');\n",
              "if (outputEl) {{\n",
              "    x.observe(outputEl, {childList: true});\n",
              "}}\n",
              "\n",
              "                        })                };                            </script>        </div>\n",
              "</body>\n",
              "</html>"
            ]
          },
          "metadata": {}
        }
      ]
    },
    {
      "cell_type": "markdown",
      "source": [
        "**mean squared error (MSE)**"
      ],
      "metadata": {
        "id": "x7BsKxjt7s3i"
      }
    }
  ]
}